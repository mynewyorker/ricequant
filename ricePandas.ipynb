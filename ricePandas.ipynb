{
 "cells": [
  {
   "cell_type": "markdown",
   "metadata": {},
   "source": [
    "pandas 是基于 Numpy 构建的，让以 Numpy 为中心的应用变得更加简单。\n",
    "\n",
    "pandas主要包括三类数据结构，分别是：\n",
    "\n",
    "Series：一维数组，与Numpy中的一维array类似。二者与Python基本的数据结构List也很相近，其区别是：List中的元素可以是不同的数据类型，而Array和Series中则只允许存储相同的数据类型，这样可以更有效的使用内存，提高运算效率。\n",
    "\n",
    "DataFrame：二维的表格型数据结构。很多功能与R中的data.frame类似。可以将DataFrame理解为Series的容器。以下的内容主要以DataFrame为主。\n",
    "\n",
    "Panel ：三维的数组，可以理解为DataFrame的容器。\n",
    "\n",
    "Pandas官网，更多功能请参考http://pandas-docs.github.io/pandas-docs-travis/index.html"
   ]
  },
  {
   "cell_type": "code",
   "execution_count": 1,
   "metadata": {
    "collapsed": true
   },
   "outputs": [],
   "source": [
    "#首先导入库\n",
    "import pandas as pd\n",
    "import numpy as np"
   ]
  },
  {
   "cell_type": "markdown",
   "metadata": {},
   "source": [
    "## Series\n",
    "\n",
    "由一组数据（各种Numpy数据类型），以及一组与之相关的标签数据（即索引）组成。仅由一组数据即可产生最简单的Series，可以通过传递一个list对象来创建一个Seriess"
   ]
  },
  {
   "cell_type": "code",
   "execution_count": 2,
   "metadata": {},
   "outputs": [
    {
     "data": {
      "text/plain": [
       "0    1.0\n",
       "1    3.0\n",
       "2    5.0\n",
       "3    NaN\n",
       "4    6.0\n",
       "5    8.0\n",
       "dtype: float64"
      ]
     },
     "execution_count": 2,
     "metadata": {},
     "output_type": "execute_result"
    }
   ],
   "source": [
    "s = pd.Series([1,3,5,np.nan,6,8])\n",
    "s"
   ]
  },
  {
   "cell_type": "markdown",
   "metadata": {},
   "source": [
    "获取 Series 的索引:"
   ]
  },
  {
   "cell_type": "code",
   "execution_count": 3,
   "metadata": {},
   "outputs": [
    {
     "data": {
      "text/plain": [
       "RangeIndex(start=0, stop=6, step=1)"
      ]
     },
     "execution_count": 3,
     "metadata": {},
     "output_type": "execute_result"
    }
   ],
   "source": [
    "s.index"
   ]
  },
  {
   "cell_type": "markdown",
   "metadata": {},
   "source": [
    "## DataFrame\n",
    "\n",
    "DataFrame是一个表格型的数据结构，它含有一组有序的列，每一列的数据结构都是相同的，而不同的列之间则可以是不同的数据结构（数值、字符、布尔值等）。或者以数据库进行类比，DataFrame中的每一行是一个记录，名称为Index的一个元素，而每一列则为一个字段，是这个记录的一个属性。DataFrame既有行索引也有列索引，可以被看做由Series组成的字典（共用同一个索引）。\n",
    "\n",
    "### 创建一个DataFrame，包括一个numpy array, 时间索引和列名字："
   ]
  },
  {
   "cell_type": "code",
   "execution_count": 4,
   "metadata": {},
   "outputs": [
    {
     "data": {
      "text/plain": [
       "DatetimeIndex(['2013-01-01', '2013-01-02', '2013-01-03', '2013-01-04',\n",
       "               '2013-01-05', '2013-01-06'],\n",
       "              dtype='datetime64[ns]', freq='D')"
      ]
     },
     "execution_count": 4,
     "metadata": {},
     "output_type": "execute_result"
    }
   ],
   "source": [
    "dates = pd.date_range('20130101', periods=6)\n",
    "dates"
   ]
  },
  {
   "cell_type": "code",
   "execution_count": 5,
   "metadata": {},
   "outputs": [
    {
     "data": {
      "text/html": [
       "<div>\n",
       "<table border=\"1\" class=\"dataframe\">\n",
       "  <thead>\n",
       "    <tr style=\"text-align: right;\">\n",
       "      <th></th>\n",
       "      <th>A</th>\n",
       "      <th>B</th>\n",
       "      <th>C</th>\n",
       "      <th>D</th>\n",
       "    </tr>\n",
       "  </thead>\n",
       "  <tbody>\n",
       "    <tr>\n",
       "      <th>2013-01-01</th>\n",
       "      <td>-0.023872</td>\n",
       "      <td>-0.662149</td>\n",
       "      <td>0.035905</td>\n",
       "      <td>-0.673801</td>\n",
       "    </tr>\n",
       "    <tr>\n",
       "      <th>2013-01-02</th>\n",
       "      <td>-1.294255</td>\n",
       "      <td>0.338153</td>\n",
       "      <td>0.073737</td>\n",
       "      <td>-0.158299</td>\n",
       "    </tr>\n",
       "    <tr>\n",
       "      <th>2013-01-03</th>\n",
       "      <td>0.298498</td>\n",
       "      <td>1.069045</td>\n",
       "      <td>1.249769</td>\n",
       "      <td>0.734961</td>\n",
       "    </tr>\n",
       "    <tr>\n",
       "      <th>2013-01-04</th>\n",
       "      <td>-0.883381</td>\n",
       "      <td>-0.115720</td>\n",
       "      <td>-0.878370</td>\n",
       "      <td>0.265243</td>\n",
       "    </tr>\n",
       "    <tr>\n",
       "      <th>2013-01-05</th>\n",
       "      <td>-0.090449</td>\n",
       "      <td>-0.084664</td>\n",
       "      <td>-1.489024</td>\n",
       "      <td>-0.838460</td>\n",
       "    </tr>\n",
       "    <tr>\n",
       "      <th>2013-01-06</th>\n",
       "      <td>1.255759</td>\n",
       "      <td>1.121589</td>\n",
       "      <td>1.469664</td>\n",
       "      <td>-1.234349</td>\n",
       "    </tr>\n",
       "  </tbody>\n",
       "</table>\n",
       "</div>"
      ],
      "text/plain": [
       "                   A         B         C         D\n",
       "2013-01-01 -0.023872 -0.662149  0.035905 -0.673801\n",
       "2013-01-02 -1.294255  0.338153  0.073737 -0.158299\n",
       "2013-01-03  0.298498  1.069045  1.249769  0.734961\n",
       "2013-01-04 -0.883381 -0.115720 -0.878370  0.265243\n",
       "2013-01-05 -0.090449 -0.084664 -1.489024 -0.838460\n",
       "2013-01-06  1.255759  1.121589  1.469664 -1.234349"
      ]
     },
     "execution_count": 5,
     "metadata": {},
     "output_type": "execute_result"
    }
   ],
   "source": [
    "df = pd.DataFrame(np.random.randn(6,4), index=dates, columns=list('ABCD'))\n",
    "df"
   ]
  },
  {
   "cell_type": "markdown",
   "metadata": {},
   "source": [
    "### 通过传递一个能够被转换成类似序列结构的字典对象来创建一个DataFrame："
   ]
  },
  {
   "cell_type": "code",
   "execution_count": 6,
   "metadata": {},
   "outputs": [
    {
     "data": {
      "text/html": [
       "<div>\n",
       "<table border=\"1\" class=\"dataframe\">\n",
       "  <thead>\n",
       "    <tr style=\"text-align: right;\">\n",
       "      <th></th>\n",
       "      <th>A</th>\n",
       "      <th>B</th>\n",
       "      <th>C</th>\n",
       "      <th>D</th>\n",
       "      <th>E</th>\n",
       "      <th>F</th>\n",
       "    </tr>\n",
       "  </thead>\n",
       "  <tbody>\n",
       "    <tr>\n",
       "      <th>0</th>\n",
       "      <td>1.0</td>\n",
       "      <td>2013-01-02</td>\n",
       "      <td>1.0</td>\n",
       "      <td>3</td>\n",
       "      <td>test</td>\n",
       "      <td>foo</td>\n",
       "    </tr>\n",
       "    <tr>\n",
       "      <th>1</th>\n",
       "      <td>1.0</td>\n",
       "      <td>2013-01-02</td>\n",
       "      <td>1.0</td>\n",
       "      <td>3</td>\n",
       "      <td>train</td>\n",
       "      <td>foo</td>\n",
       "    </tr>\n",
       "    <tr>\n",
       "      <th>2</th>\n",
       "      <td>1.0</td>\n",
       "      <td>2013-01-02</td>\n",
       "      <td>1.0</td>\n",
       "      <td>3</td>\n",
       "      <td>test</td>\n",
       "      <td>foo</td>\n",
       "    </tr>\n",
       "    <tr>\n",
       "      <th>3</th>\n",
       "      <td>1.0</td>\n",
       "      <td>2013-01-02</td>\n",
       "      <td>1.0</td>\n",
       "      <td>3</td>\n",
       "      <td>train</td>\n",
       "      <td>foo</td>\n",
       "    </tr>\n",
       "  </tbody>\n",
       "</table>\n",
       "</div>"
      ],
      "text/plain": [
       "     A          B    C  D      E    F\n",
       "0  1.0 2013-01-02  1.0  3   test  foo\n",
       "1  1.0 2013-01-02  1.0  3  train  foo\n",
       "2  1.0 2013-01-02  1.0  3   test  foo\n",
       "3  1.0 2013-01-02  1.0  3  train  foo"
      ]
     },
     "execution_count": 6,
     "metadata": {},
     "output_type": "execute_result"
    }
   ],
   "source": [
    "df2 = pd.DataFrame({'A':1.,\n",
    "                    'B':pd.Timestamp('20130102'),\n",
    "                    'C':pd.Series(1, index=list(range(4)),dtype='float32'),\n",
    "                    'D':np.array([3] * 4, dtype='int32'),\n",
    "                    'E':pd.Categorical(['test','train', 'test','train']),\n",
    "                    'F':'foo'\n",
    "                   })\n",
    "df2"
   ]
  },
  {
   "cell_type": "markdown",
   "metadata": {},
   "source": [
    "### 查看不同列的数据类型："
   ]
  },
  {
   "cell_type": "code",
   "execution_count": 7,
   "metadata": {},
   "outputs": [
    {
     "data": {
      "text/plain": [
       "A           float64\n",
       "B    datetime64[ns]\n",
       "C           float32\n",
       "D             int32\n",
       "E          category\n",
       "F            object\n",
       "dtype: object"
      ]
     },
     "execution_count": 7,
     "metadata": {},
     "output_type": "execute_result"
    }
   ],
   "source": [
    "df2.dtypes"
   ]
  },
  {
   "cell_type": "markdown",
   "metadata": {},
   "source": [
    "### 使用Tab自动补全功能会自动识别所有的属性以及自定义的列"
   ]
  },
  {
   "cell_type": "markdown",
   "metadata": {},
   "source": [
    "## 查看数据"
   ]
  },
  {
   "cell_type": "markdown",
   "metadata": {},
   "source": [
    "我们以平台获取的数据为例进行讲解："
   ]
  },
  {
   "cell_type": "code",
   "execution_count": 55,
   "metadata": {},
   "outputs": [
    {
     "data": {
      "text/html": [
       "<div>\n",
       "<table border=\"1\" class=\"dataframe\">\n",
       "  <thead>\n",
       "    <tr style=\"text-align: right;\">\n",
       "      <th></th>\n",
       "      <th>open</th>\n",
       "      <th>high</th>\n",
       "      <th>low</th>\n",
       "      <th>close</th>\n",
       "    </tr>\n",
       "  </thead>\n",
       "  <tbody>\n",
       "    <tr>\n",
       "      <th>2017-06-01</th>\n",
       "      <td>9.20</td>\n",
       "      <td>9.23</td>\n",
       "      <td>9.12</td>\n",
       "      <td>9.19</td>\n",
       "    </tr>\n",
       "    <tr>\n",
       "      <th>2017-06-02</th>\n",
       "      <td>9.18</td>\n",
       "      <td>9.29</td>\n",
       "      <td>9.14</td>\n",
       "      <td>9.17</td>\n",
       "    </tr>\n",
       "    <tr>\n",
       "      <th>2017-06-05</th>\n",
       "      <td>9.13</td>\n",
       "      <td>9.17</td>\n",
       "      <td>8.99</td>\n",
       "      <td>9.03</td>\n",
       "    </tr>\n",
       "    <tr>\n",
       "      <th>2017-06-06</th>\n",
       "      <td>9.01</td>\n",
       "      <td>9.06</td>\n",
       "      <td>8.99</td>\n",
       "      <td>9.04</td>\n",
       "    </tr>\n",
       "    <tr>\n",
       "      <th>2017-06-07</th>\n",
       "      <td>9.02</td>\n",
       "      <td>9.15</td>\n",
       "      <td>9.01</td>\n",
       "      <td>9.13</td>\n",
       "    </tr>\n",
       "    <tr>\n",
       "      <th>2017-06-08</th>\n",
       "      <td>9.11</td>\n",
       "      <td>9.15</td>\n",
       "      <td>9.08</td>\n",
       "      <td>9.13</td>\n",
       "    </tr>\n",
       "    <tr>\n",
       "      <th>2017-06-09</th>\n",
       "      <td>9.15</td>\n",
       "      <td>9.22</td>\n",
       "      <td>9.12</td>\n",
       "      <td>9.15</td>\n",
       "    </tr>\n",
       "    <tr>\n",
       "      <th>2017-06-12</th>\n",
       "      <td>9.15</td>\n",
       "      <td>9.19</td>\n",
       "      <td>9.10</td>\n",
       "      <td>9.11</td>\n",
       "    </tr>\n",
       "    <tr>\n",
       "      <th>2017-06-13</th>\n",
       "      <td>9.11</td>\n",
       "      <td>9.14</td>\n",
       "      <td>9.05</td>\n",
       "      <td>9.12</td>\n",
       "    </tr>\n",
       "    <tr>\n",
       "      <th>2017-06-14</th>\n",
       "      <td>9.12</td>\n",
       "      <td>9.13</td>\n",
       "      <td>9.04</td>\n",
       "      <td>9.08</td>\n",
       "    </tr>\n",
       "  </tbody>\n",
       "</table>\n",
       "</div>"
      ],
      "text/plain": [
       "            open  high   low  close\n",
       "2017-06-01  9.20  9.23  9.12   9.19\n",
       "2017-06-02  9.18  9.29  9.14   9.17\n",
       "2017-06-05  9.13  9.17  8.99   9.03\n",
       "2017-06-06  9.01  9.06  8.99   9.04\n",
       "2017-06-07  9.02  9.15  9.01   9.13\n",
       "2017-06-08  9.11  9.15  9.08   9.13\n",
       "2017-06-09  9.15  9.22  9.12   9.15\n",
       "2017-06-12  9.15  9.19  9.10   9.11\n",
       "2017-06-13  9.11  9.14  9.05   9.12\n",
       "2017-06-14  9.12  9.13  9.04   9.08"
      ]
     },
     "execution_count": 55,
     "metadata": {},
     "output_type": "execute_result"
    }
   ],
   "source": [
    "# 获取平安银行近几个工作日的开盘价、最高价、最低价、收盘价。\n",
    "df = get_price('000001.XSHE','2017-06-01','2017-06-14','1d',['open','high','low','close'])\n",
    "df"
   ]
  },
  {
   "cell_type": "markdown",
   "metadata": {},
   "source": [
    "查看前几条数据："
   ]
  },
  {
   "cell_type": "code",
   "execution_count": 10,
   "metadata": {},
   "outputs": [
    {
     "data": {
      "text/html": [
       "<div>\n",
       "<table border=\"1\" class=\"dataframe\">\n",
       "  <thead>\n",
       "    <tr style=\"text-align: right;\">\n",
       "      <th></th>\n",
       "      <th>open</th>\n",
       "      <th>high</th>\n",
       "      <th>low</th>\n",
       "      <th>close</th>\n",
       "    </tr>\n",
       "  </thead>\n",
       "  <tbody>\n",
       "    <tr>\n",
       "      <th>2017-06-01</th>\n",
       "      <td>9.20</td>\n",
       "      <td>9.23</td>\n",
       "      <td>9.12</td>\n",
       "      <td>9.19</td>\n",
       "    </tr>\n",
       "    <tr>\n",
       "      <th>2017-06-02</th>\n",
       "      <td>9.18</td>\n",
       "      <td>9.29</td>\n",
       "      <td>9.14</td>\n",
       "      <td>9.17</td>\n",
       "    </tr>\n",
       "    <tr>\n",
       "      <th>2017-06-05</th>\n",
       "      <td>9.13</td>\n",
       "      <td>9.17</td>\n",
       "      <td>8.99</td>\n",
       "      <td>9.03</td>\n",
       "    </tr>\n",
       "    <tr>\n",
       "      <th>2017-06-06</th>\n",
       "      <td>9.01</td>\n",
       "      <td>9.06</td>\n",
       "      <td>8.99</td>\n",
       "      <td>9.04</td>\n",
       "    </tr>\n",
       "    <tr>\n",
       "      <th>2017-06-07</th>\n",
       "      <td>9.02</td>\n",
       "      <td>9.15</td>\n",
       "      <td>9.01</td>\n",
       "      <td>9.13</td>\n",
       "    </tr>\n",
       "  </tbody>\n",
       "</table>\n",
       "</div>"
      ],
      "text/plain": [
       "            open  high   low  close\n",
       "2017-06-01  9.20  9.23  9.12   9.19\n",
       "2017-06-02  9.18  9.29  9.14   9.17\n",
       "2017-06-05  9.13  9.17  8.99   9.03\n",
       "2017-06-06  9.01  9.06  8.99   9.04\n",
       "2017-06-07  9.02  9.15  9.01   9.13"
      ]
     },
     "execution_count": 10,
     "metadata": {},
     "output_type": "execute_result"
    }
   ],
   "source": [
    "df.head()"
   ]
  },
  {
   "cell_type": "markdown",
   "metadata": {},
   "source": [
    "查看后几条数据："
   ]
  },
  {
   "cell_type": "code",
   "execution_count": 11,
   "metadata": {},
   "outputs": [
    {
     "data": {
      "text/html": [
       "<div>\n",
       "<table border=\"1\" class=\"dataframe\">\n",
       "  <thead>\n",
       "    <tr style=\"text-align: right;\">\n",
       "      <th></th>\n",
       "      <th>open</th>\n",
       "      <th>high</th>\n",
       "      <th>low</th>\n",
       "      <th>close</th>\n",
       "    </tr>\n",
       "  </thead>\n",
       "  <tbody>\n",
       "    <tr>\n",
       "      <th>2017-06-08</th>\n",
       "      <td>9.11</td>\n",
       "      <td>9.15</td>\n",
       "      <td>9.08</td>\n",
       "      <td>9.13</td>\n",
       "    </tr>\n",
       "    <tr>\n",
       "      <th>2017-06-09</th>\n",
       "      <td>9.15</td>\n",
       "      <td>9.22</td>\n",
       "      <td>9.12</td>\n",
       "      <td>9.15</td>\n",
       "    </tr>\n",
       "    <tr>\n",
       "      <th>2017-06-12</th>\n",
       "      <td>9.15</td>\n",
       "      <td>9.19</td>\n",
       "      <td>9.10</td>\n",
       "      <td>9.11</td>\n",
       "    </tr>\n",
       "    <tr>\n",
       "      <th>2017-06-13</th>\n",
       "      <td>9.11</td>\n",
       "      <td>9.14</td>\n",
       "      <td>9.05</td>\n",
       "      <td>9.12</td>\n",
       "    </tr>\n",
       "    <tr>\n",
       "      <th>2017-06-14</th>\n",
       "      <td>9.12</td>\n",
       "      <td>9.13</td>\n",
       "      <td>9.04</td>\n",
       "      <td>9.08</td>\n",
       "    </tr>\n",
       "  </tbody>\n",
       "</table>\n",
       "</div>"
      ],
      "text/plain": [
       "            open  high   low  close\n",
       "2017-06-08  9.11  9.15  9.08   9.13\n",
       "2017-06-09  9.15  9.22  9.12   9.15\n",
       "2017-06-12  9.15  9.19  9.10   9.11\n",
       "2017-06-13  9.11  9.14  9.05   9.12\n",
       "2017-06-14  9.12  9.13  9.04   9.08"
      ]
     },
     "execution_count": 11,
     "metadata": {},
     "output_type": "execute_result"
    }
   ],
   "source": [
    "df.tail()"
   ]
  },
  {
   "cell_type": "markdown",
   "metadata": {},
   "source": [
    "显示索引、列和底层的numpy数据："
   ]
  },
  {
   "cell_type": "code",
   "execution_count": 12,
   "metadata": {},
   "outputs": [
    {
     "data": {
      "text/plain": [
       "DatetimeIndex(['2017-06-01', '2017-06-02', '2017-06-05', '2017-06-06',\n",
       "               '2017-06-07', '2017-06-08', '2017-06-09', '2017-06-12',\n",
       "               '2017-06-13', '2017-06-14'],\n",
       "              dtype='datetime64[ns]', freq=None)"
      ]
     },
     "execution_count": 12,
     "metadata": {},
     "output_type": "execute_result"
    }
   ],
   "source": [
    "df.index"
   ]
  },
  {
   "cell_type": "markdown",
   "metadata": {},
   "source": [
    "查看 DataFrame 的列名"
   ]
  },
  {
   "cell_type": "code",
   "execution_count": 13,
   "metadata": {},
   "outputs": [
    {
     "data": {
      "text/plain": [
       "Index(['open', 'high', 'low', 'close'], dtype='object')"
      ]
     },
     "execution_count": 13,
     "metadata": {},
     "output_type": "execute_result"
    }
   ],
   "source": [
    "df.columns"
   ]
  },
  {
   "cell_type": "markdown",
   "metadata": {},
   "source": [
    "查看 DataFrame 的值"
   ]
  },
  {
   "cell_type": "code",
   "execution_count": 15,
   "metadata": {},
   "outputs": [
    {
     "data": {
      "text/plain": [
       "array([[ 9.2 ,  9.23,  9.12,  9.19],\n",
       "       [ 9.18,  9.29,  9.14,  9.17],\n",
       "       [ 9.13,  9.17,  8.99,  9.03],\n",
       "       [ 9.01,  9.06,  8.99,  9.04],\n",
       "       [ 9.02,  9.15,  9.01,  9.13],\n",
       "       [ 9.11,  9.15,  9.08,  9.13],\n",
       "       [ 9.15,  9.22,  9.12,  9.15],\n",
       "       [ 9.15,  9.19,  9.1 ,  9.11],\n",
       "       [ 9.11,  9.14,  9.05,  9.12],\n",
       "       [ 9.12,  9.13,  9.04,  9.08]])"
      ]
     },
     "execution_count": 15,
     "metadata": {},
     "output_type": "execute_result"
    }
   ],
   "source": [
    "df.values"
   ]
  },
  {
   "cell_type": "markdown",
   "metadata": {},
   "source": [
    "describe()函数对于数据的快速统计汇总："
   ]
  },
  {
   "cell_type": "code",
   "execution_count": 16,
   "metadata": {},
   "outputs": [
    {
     "data": {
      "text/html": [
       "<div>\n",
       "<table border=\"1\" class=\"dataframe\">\n",
       "  <thead>\n",
       "    <tr style=\"text-align: right;\">\n",
       "      <th></th>\n",
       "      <th>open</th>\n",
       "      <th>high</th>\n",
       "      <th>low</th>\n",
       "      <th>close</th>\n",
       "    </tr>\n",
       "  </thead>\n",
       "  <tbody>\n",
       "    <tr>\n",
       "      <th>count</th>\n",
       "      <td>10.000000</td>\n",
       "      <td>10.00000</td>\n",
       "      <td>10.000000</td>\n",
       "      <td>10.000000</td>\n",
       "    </tr>\n",
       "    <tr>\n",
       "      <th>mean</th>\n",
       "      <td>9.118000</td>\n",
       "      <td>9.17300</td>\n",
       "      <td>9.064000</td>\n",
       "      <td>9.115000</td>\n",
       "    </tr>\n",
       "    <tr>\n",
       "      <th>std</th>\n",
       "      <td>0.061608</td>\n",
       "      <td>0.06343</td>\n",
       "      <td>0.056016</td>\n",
       "      <td>0.052122</td>\n",
       "    </tr>\n",
       "    <tr>\n",
       "      <th>min</th>\n",
       "      <td>9.010000</td>\n",
       "      <td>9.06000</td>\n",
       "      <td>8.990000</td>\n",
       "      <td>9.030000</td>\n",
       "    </tr>\n",
       "    <tr>\n",
       "      <th>25%</th>\n",
       "      <td>9.110000</td>\n",
       "      <td>9.14250</td>\n",
       "      <td>9.017500</td>\n",
       "      <td>9.087500</td>\n",
       "    </tr>\n",
       "    <tr>\n",
       "      <th>50%</th>\n",
       "      <td>9.125000</td>\n",
       "      <td>9.16000</td>\n",
       "      <td>9.065000</td>\n",
       "      <td>9.125000</td>\n",
       "    </tr>\n",
       "    <tr>\n",
       "      <th>75%</th>\n",
       "      <td>9.150000</td>\n",
       "      <td>9.21250</td>\n",
       "      <td>9.115000</td>\n",
       "      <td>9.145000</td>\n",
       "    </tr>\n",
       "    <tr>\n",
       "      <th>max</th>\n",
       "      <td>9.200000</td>\n",
       "      <td>9.29000</td>\n",
       "      <td>9.140000</td>\n",
       "      <td>9.190000</td>\n",
       "    </tr>\n",
       "  </tbody>\n",
       "</table>\n",
       "</div>"
      ],
      "text/plain": [
       "            open      high        low      close\n",
       "count  10.000000  10.00000  10.000000  10.000000\n",
       "mean    9.118000   9.17300   9.064000   9.115000\n",
       "std     0.061608   0.06343   0.056016   0.052122\n",
       "min     9.010000   9.06000   8.990000   9.030000\n",
       "25%     9.110000   9.14250   9.017500   9.087500\n",
       "50%     9.125000   9.16000   9.065000   9.125000\n",
       "75%     9.150000   9.21250   9.115000   9.145000\n",
       "max     9.200000   9.29000   9.140000   9.190000"
      ]
     },
     "execution_count": 16,
     "metadata": {},
     "output_type": "execute_result"
    }
   ],
   "source": [
    "df.describe()"
   ]
  },
  {
   "cell_type": "markdown",
   "metadata": {},
   "source": [
    "对数据的转置(tranverse):"
   ]
  },
  {
   "cell_type": "code",
   "execution_count": 17,
   "metadata": {},
   "outputs": [
    {
     "data": {
      "text/html": [
       "<div>\n",
       "<table border=\"1\" class=\"dataframe\">\n",
       "  <thead>\n",
       "    <tr style=\"text-align: right;\">\n",
       "      <th></th>\n",
       "      <th>2017-06-01 00:00:00</th>\n",
       "      <th>2017-06-02 00:00:00</th>\n",
       "      <th>2017-06-05 00:00:00</th>\n",
       "      <th>2017-06-06 00:00:00</th>\n",
       "      <th>2017-06-07 00:00:00</th>\n",
       "      <th>2017-06-08 00:00:00</th>\n",
       "      <th>2017-06-09 00:00:00</th>\n",
       "      <th>2017-06-12 00:00:00</th>\n",
       "      <th>2017-06-13 00:00:00</th>\n",
       "      <th>2017-06-14 00:00:00</th>\n",
       "    </tr>\n",
       "  </thead>\n",
       "  <tbody>\n",
       "    <tr>\n",
       "      <th>open</th>\n",
       "      <td>9.20</td>\n",
       "      <td>9.18</td>\n",
       "      <td>9.13</td>\n",
       "      <td>9.01</td>\n",
       "      <td>9.02</td>\n",
       "      <td>9.11</td>\n",
       "      <td>9.15</td>\n",
       "      <td>9.15</td>\n",
       "      <td>9.11</td>\n",
       "      <td>9.12</td>\n",
       "    </tr>\n",
       "    <tr>\n",
       "      <th>high</th>\n",
       "      <td>9.23</td>\n",
       "      <td>9.29</td>\n",
       "      <td>9.17</td>\n",
       "      <td>9.06</td>\n",
       "      <td>9.15</td>\n",
       "      <td>9.15</td>\n",
       "      <td>9.22</td>\n",
       "      <td>9.19</td>\n",
       "      <td>9.14</td>\n",
       "      <td>9.13</td>\n",
       "    </tr>\n",
       "    <tr>\n",
       "      <th>low</th>\n",
       "      <td>9.12</td>\n",
       "      <td>9.14</td>\n",
       "      <td>8.99</td>\n",
       "      <td>8.99</td>\n",
       "      <td>9.01</td>\n",
       "      <td>9.08</td>\n",
       "      <td>9.12</td>\n",
       "      <td>9.10</td>\n",
       "      <td>9.05</td>\n",
       "      <td>9.04</td>\n",
       "    </tr>\n",
       "    <tr>\n",
       "      <th>close</th>\n",
       "      <td>9.19</td>\n",
       "      <td>9.17</td>\n",
       "      <td>9.03</td>\n",
       "      <td>9.04</td>\n",
       "      <td>9.13</td>\n",
       "      <td>9.13</td>\n",
       "      <td>9.15</td>\n",
       "      <td>9.11</td>\n",
       "      <td>9.12</td>\n",
       "      <td>9.08</td>\n",
       "    </tr>\n",
       "  </tbody>\n",
       "</table>\n",
       "</div>"
      ],
      "text/plain": [
       "       2017-06-01  2017-06-02  2017-06-05  2017-06-06  2017-06-07  2017-06-08  \\\n",
       "open         9.20        9.18        9.13        9.01        9.02        9.11   \n",
       "high         9.23        9.29        9.17        9.06        9.15        9.15   \n",
       "low          9.12        9.14        8.99        8.99        9.01        9.08   \n",
       "close        9.19        9.17        9.03        9.04        9.13        9.13   \n",
       "\n",
       "       2017-06-09  2017-06-12  2017-06-13  2017-06-14  \n",
       "open         9.15        9.15        9.11        9.12  \n",
       "high         9.22        9.19        9.14        9.13  \n",
       "low          9.12        9.10        9.05        9.04  \n",
       "close        9.15        9.11        9.12        9.08  "
      ]
     },
     "execution_count": 17,
     "metadata": {},
     "output_type": "execute_result"
    }
   ],
   "source": [
    "df.T"
   ]
  },
  {
   "cell_type": "markdown",
   "metadata": {},
   "source": [
    "按轴进行排序"
   ]
  },
  {
   "cell_type": "code",
   "execution_count": 18,
   "metadata": {},
   "outputs": [
    {
     "data": {
      "text/html": [
       "<div>\n",
       "<table border=\"1\" class=\"dataframe\">\n",
       "  <thead>\n",
       "    <tr style=\"text-align: right;\">\n",
       "      <th></th>\n",
       "      <th>open</th>\n",
       "      <th>low</th>\n",
       "      <th>high</th>\n",
       "      <th>close</th>\n",
       "    </tr>\n",
       "  </thead>\n",
       "  <tbody>\n",
       "    <tr>\n",
       "      <th>2017-06-01</th>\n",
       "      <td>9.20</td>\n",
       "      <td>9.12</td>\n",
       "      <td>9.23</td>\n",
       "      <td>9.19</td>\n",
       "    </tr>\n",
       "    <tr>\n",
       "      <th>2017-06-02</th>\n",
       "      <td>9.18</td>\n",
       "      <td>9.14</td>\n",
       "      <td>9.29</td>\n",
       "      <td>9.17</td>\n",
       "    </tr>\n",
       "    <tr>\n",
       "      <th>2017-06-05</th>\n",
       "      <td>9.13</td>\n",
       "      <td>8.99</td>\n",
       "      <td>9.17</td>\n",
       "      <td>9.03</td>\n",
       "    </tr>\n",
       "    <tr>\n",
       "      <th>2017-06-06</th>\n",
       "      <td>9.01</td>\n",
       "      <td>8.99</td>\n",
       "      <td>9.06</td>\n",
       "      <td>9.04</td>\n",
       "    </tr>\n",
       "    <tr>\n",
       "      <th>2017-06-07</th>\n",
       "      <td>9.02</td>\n",
       "      <td>9.01</td>\n",
       "      <td>9.15</td>\n",
       "      <td>9.13</td>\n",
       "    </tr>\n",
       "    <tr>\n",
       "      <th>2017-06-08</th>\n",
       "      <td>9.11</td>\n",
       "      <td>9.08</td>\n",
       "      <td>9.15</td>\n",
       "      <td>9.13</td>\n",
       "    </tr>\n",
       "    <tr>\n",
       "      <th>2017-06-09</th>\n",
       "      <td>9.15</td>\n",
       "      <td>9.12</td>\n",
       "      <td>9.22</td>\n",
       "      <td>9.15</td>\n",
       "    </tr>\n",
       "    <tr>\n",
       "      <th>2017-06-12</th>\n",
       "      <td>9.15</td>\n",
       "      <td>9.10</td>\n",
       "      <td>9.19</td>\n",
       "      <td>9.11</td>\n",
       "    </tr>\n",
       "    <tr>\n",
       "      <th>2017-06-13</th>\n",
       "      <td>9.11</td>\n",
       "      <td>9.05</td>\n",
       "      <td>9.14</td>\n",
       "      <td>9.12</td>\n",
       "    </tr>\n",
       "    <tr>\n",
       "      <th>2017-06-14</th>\n",
       "      <td>9.12</td>\n",
       "      <td>9.04</td>\n",
       "      <td>9.13</td>\n",
       "      <td>9.08</td>\n",
       "    </tr>\n",
       "  </tbody>\n",
       "</table>\n",
       "</div>"
      ],
      "text/plain": [
       "            open   low  high  close\n",
       "2017-06-01  9.20  9.12  9.23   9.19\n",
       "2017-06-02  9.18  9.14  9.29   9.17\n",
       "2017-06-05  9.13  8.99  9.17   9.03\n",
       "2017-06-06  9.01  8.99  9.06   9.04\n",
       "2017-06-07  9.02  9.01  9.15   9.13\n",
       "2017-06-08  9.11  9.08  9.15   9.13\n",
       "2017-06-09  9.15  9.12  9.22   9.15\n",
       "2017-06-12  9.15  9.10  9.19   9.11\n",
       "2017-06-13  9.11  9.05  9.14   9.12\n",
       "2017-06-14  9.12  9.04  9.13   9.08"
      ]
     },
     "execution_count": 18,
     "metadata": {},
     "output_type": "execute_result"
    }
   ],
   "source": [
    "df.sort_index(axis=1,ascending=False)"
   ]
  },
  {
   "cell_type": "markdown",
   "metadata": {},
   "source": [
    "6.按值进行排序"
   ]
  },
  {
   "cell_type": "code",
   "execution_count": 19,
   "metadata": {},
   "outputs": [
    {
     "data": {
      "text/html": [
       "<div>\n",
       "<table border=\"1\" class=\"dataframe\">\n",
       "  <thead>\n",
       "    <tr style=\"text-align: right;\">\n",
       "      <th></th>\n",
       "      <th>open</th>\n",
       "      <th>high</th>\n",
       "      <th>low</th>\n",
       "      <th>close</th>\n",
       "    </tr>\n",
       "  </thead>\n",
       "  <tbody>\n",
       "    <tr>\n",
       "      <th>2017-06-01</th>\n",
       "      <td>9.20</td>\n",
       "      <td>9.23</td>\n",
       "      <td>9.12</td>\n",
       "      <td>9.19</td>\n",
       "    </tr>\n",
       "    <tr>\n",
       "      <th>2017-06-02</th>\n",
       "      <td>9.18</td>\n",
       "      <td>9.29</td>\n",
       "      <td>9.14</td>\n",
       "      <td>9.17</td>\n",
       "    </tr>\n",
       "    <tr>\n",
       "      <th>2017-06-09</th>\n",
       "      <td>9.15</td>\n",
       "      <td>9.22</td>\n",
       "      <td>9.12</td>\n",
       "      <td>9.15</td>\n",
       "    </tr>\n",
       "    <tr>\n",
       "      <th>2017-06-12</th>\n",
       "      <td>9.15</td>\n",
       "      <td>9.19</td>\n",
       "      <td>9.10</td>\n",
       "      <td>9.11</td>\n",
       "    </tr>\n",
       "    <tr>\n",
       "      <th>2017-06-05</th>\n",
       "      <td>9.13</td>\n",
       "      <td>9.17</td>\n",
       "      <td>8.99</td>\n",
       "      <td>9.03</td>\n",
       "    </tr>\n",
       "    <tr>\n",
       "      <th>2017-06-14</th>\n",
       "      <td>9.12</td>\n",
       "      <td>9.13</td>\n",
       "      <td>9.04</td>\n",
       "      <td>9.08</td>\n",
       "    </tr>\n",
       "    <tr>\n",
       "      <th>2017-06-08</th>\n",
       "      <td>9.11</td>\n",
       "      <td>9.15</td>\n",
       "      <td>9.08</td>\n",
       "      <td>9.13</td>\n",
       "    </tr>\n",
       "    <tr>\n",
       "      <th>2017-06-13</th>\n",
       "      <td>9.11</td>\n",
       "      <td>9.14</td>\n",
       "      <td>9.05</td>\n",
       "      <td>9.12</td>\n",
       "    </tr>\n",
       "    <tr>\n",
       "      <th>2017-06-07</th>\n",
       "      <td>9.02</td>\n",
       "      <td>9.15</td>\n",
       "      <td>9.01</td>\n",
       "      <td>9.13</td>\n",
       "    </tr>\n",
       "    <tr>\n",
       "      <th>2017-06-06</th>\n",
       "      <td>9.01</td>\n",
       "      <td>9.06</td>\n",
       "      <td>8.99</td>\n",
       "      <td>9.04</td>\n",
       "    </tr>\n",
       "  </tbody>\n",
       "</table>\n",
       "</div>"
      ],
      "text/plain": [
       "            open  high   low  close\n",
       "2017-06-01  9.20  9.23  9.12   9.19\n",
       "2017-06-02  9.18  9.29  9.14   9.17\n",
       "2017-06-09  9.15  9.22  9.12   9.15\n",
       "2017-06-12  9.15  9.19  9.10   9.11\n",
       "2017-06-05  9.13  9.17  8.99   9.03\n",
       "2017-06-14  9.12  9.13  9.04   9.08\n",
       "2017-06-08  9.11  9.15  9.08   9.13\n",
       "2017-06-13  9.11  9.14  9.05   9.12\n",
       "2017-06-07  9.02  9.15  9.01   9.13\n",
       "2017-06-06  9.01  9.06  8.99   9.04"
      ]
     },
     "execution_count": 19,
     "metadata": {},
     "output_type": "execute_result"
    }
   ],
   "source": [
    "df.sort_values(by= 'open',ascending = False)"
   ]
  },
  {
   "cell_type": "markdown",
   "metadata": {},
   "source": [
    "## 选择数据\n",
    "### 通过下标选取数据:\n",
    "df['open']，df.open\n",
    "以上两个语句是等效的，都是返回 df 名称为 open 列的数据，返回的为一个 Series。\n",
    "df[0:3], df['2017-06-01':'2017-06-05']\n",
    "下标索引选取的是 DataFrame 的记录，与 List 相同 DataFrame 的下标也是从0开始，区间索引的话，为一个左闭右开的区间，即[0：3]选取的为0-2三条记录。\n",
    "与此等价，还可以用起始的索引名称和结束索引名称选取数据,如：df['a':'b']。有一点需要注意的是使用起始索引名称和结束索引名称时，也会包含结束索引的数据。具体看下方示例：\n",
    "以上两种方式返回的都是DataFrame。\n",
    "\n",
    "选择一列数据："
   ]
  },
  {
   "cell_type": "code",
   "execution_count": 20,
   "metadata": {},
   "outputs": [
    {
     "data": {
      "text/plain": [
       "2017-06-01    9.20\n",
       "2017-06-02    9.18\n",
       "2017-06-05    9.13\n",
       "2017-06-06    9.01\n",
       "2017-06-07    9.02\n",
       "2017-06-08    9.11\n",
       "2017-06-09    9.15\n",
       "2017-06-12    9.15\n",
       "2017-06-13    9.11\n",
       "2017-06-14    9.12\n",
       "Name: open, dtype: float64"
      ]
     },
     "execution_count": 20,
     "metadata": {},
     "output_type": "execute_result"
    }
   ],
   "source": [
    "df['open']"
   ]
  },
  {
   "cell_type": "markdown",
   "metadata": {},
   "source": [
    "选择多列数据："
   ]
  },
  {
   "cell_type": "code",
   "execution_count": 21,
   "metadata": {},
   "outputs": [
    {
     "data": {
      "text/html": [
       "<div>\n",
       "<table border=\"1\" class=\"dataframe\">\n",
       "  <thead>\n",
       "    <tr style=\"text-align: right;\">\n",
       "      <th></th>\n",
       "      <th>open</th>\n",
       "      <th>close</th>\n",
       "    </tr>\n",
       "  </thead>\n",
       "  <tbody>\n",
       "    <tr>\n",
       "      <th>2017-06-01</th>\n",
       "      <td>9.20</td>\n",
       "      <td>9.19</td>\n",
       "    </tr>\n",
       "    <tr>\n",
       "      <th>2017-06-02</th>\n",
       "      <td>9.18</td>\n",
       "      <td>9.17</td>\n",
       "    </tr>\n",
       "    <tr>\n",
       "      <th>2017-06-05</th>\n",
       "      <td>9.13</td>\n",
       "      <td>9.03</td>\n",
       "    </tr>\n",
       "    <tr>\n",
       "      <th>2017-06-06</th>\n",
       "      <td>9.01</td>\n",
       "      <td>9.04</td>\n",
       "    </tr>\n",
       "    <tr>\n",
       "      <th>2017-06-07</th>\n",
       "      <td>9.02</td>\n",
       "      <td>9.13</td>\n",
       "    </tr>\n",
       "    <tr>\n",
       "      <th>2017-06-08</th>\n",
       "      <td>9.11</td>\n",
       "      <td>9.13</td>\n",
       "    </tr>\n",
       "    <tr>\n",
       "      <th>2017-06-09</th>\n",
       "      <td>9.15</td>\n",
       "      <td>9.15</td>\n",
       "    </tr>\n",
       "    <tr>\n",
       "      <th>2017-06-12</th>\n",
       "      <td>9.15</td>\n",
       "      <td>9.11</td>\n",
       "    </tr>\n",
       "    <tr>\n",
       "      <th>2017-06-13</th>\n",
       "      <td>9.11</td>\n",
       "      <td>9.12</td>\n",
       "    </tr>\n",
       "    <tr>\n",
       "      <th>2017-06-14</th>\n",
       "      <td>9.12</td>\n",
       "      <td>9.08</td>\n",
       "    </tr>\n",
       "  </tbody>\n",
       "</table>\n",
       "</div>"
      ],
      "text/plain": [
       "            open  close\n",
       "2017-06-01  9.20   9.19\n",
       "2017-06-02  9.18   9.17\n",
       "2017-06-05  9.13   9.03\n",
       "2017-06-06  9.01   9.04\n",
       "2017-06-07  9.02   9.13\n",
       "2017-06-08  9.11   9.13\n",
       "2017-06-09  9.15   9.15\n",
       "2017-06-12  9.15   9.11\n",
       "2017-06-13  9.11   9.12\n",
       "2017-06-14  9.12   9.08"
      ]
     },
     "execution_count": 21,
     "metadata": {},
     "output_type": "execute_result"
    }
   ],
   "source": [
    "df[['open','close']]"
   ]
  },
  {
   "cell_type": "markdown",
   "metadata": {},
   "source": [
    "选择多行："
   ]
  },
  {
   "cell_type": "code",
   "execution_count": 22,
   "metadata": {},
   "outputs": [
    {
     "data": {
      "text/html": [
       "<div>\n",
       "<table border=\"1\" class=\"dataframe\">\n",
       "  <thead>\n",
       "    <tr style=\"text-align: right;\">\n",
       "      <th></th>\n",
       "      <th>open</th>\n",
       "      <th>high</th>\n",
       "      <th>low</th>\n",
       "      <th>close</th>\n",
       "    </tr>\n",
       "  </thead>\n",
       "  <tbody>\n",
       "    <tr>\n",
       "      <th>2017-06-01</th>\n",
       "      <td>9.20</td>\n",
       "      <td>9.23</td>\n",
       "      <td>9.12</td>\n",
       "      <td>9.19</td>\n",
       "    </tr>\n",
       "    <tr>\n",
       "      <th>2017-06-02</th>\n",
       "      <td>9.18</td>\n",
       "      <td>9.29</td>\n",
       "      <td>9.14</td>\n",
       "      <td>9.17</td>\n",
       "    </tr>\n",
       "    <tr>\n",
       "      <th>2017-06-05</th>\n",
       "      <td>9.13</td>\n",
       "      <td>9.17</td>\n",
       "      <td>8.99</td>\n",
       "      <td>9.03</td>\n",
       "    </tr>\n",
       "  </tbody>\n",
       "</table>\n",
       "</div>"
      ],
      "text/plain": [
       "            open  high   low  close\n",
       "2017-06-01  9.20  9.23  9.12   9.19\n",
       "2017-06-02  9.18  9.29  9.14   9.17\n",
       "2017-06-05  9.13  9.17  8.99   9.03"
      ]
     },
     "execution_count": 22,
     "metadata": {},
     "output_type": "execute_result"
    }
   ],
   "source": [
    "df[0:3]"
   ]
  },
  {
   "cell_type": "code",
   "execution_count": 23,
   "metadata": {},
   "outputs": [
    {
     "data": {
      "text/html": [
       "<div>\n",
       "<table border=\"1\" class=\"dataframe\">\n",
       "  <thead>\n",
       "    <tr style=\"text-align: right;\">\n",
       "      <th></th>\n",
       "      <th>open</th>\n",
       "      <th>high</th>\n",
       "      <th>low</th>\n",
       "      <th>close</th>\n",
       "    </tr>\n",
       "  </thead>\n",
       "  <tbody>\n",
       "    <tr>\n",
       "      <th>2017-06-01</th>\n",
       "      <td>9.20</td>\n",
       "      <td>9.23</td>\n",
       "      <td>9.12</td>\n",
       "      <td>9.19</td>\n",
       "    </tr>\n",
       "    <tr>\n",
       "      <th>2017-06-02</th>\n",
       "      <td>9.18</td>\n",
       "      <td>9.29</td>\n",
       "      <td>9.14</td>\n",
       "      <td>9.17</td>\n",
       "    </tr>\n",
       "    <tr>\n",
       "      <th>2017-06-05</th>\n",
       "      <td>9.13</td>\n",
       "      <td>9.17</td>\n",
       "      <td>8.99</td>\n",
       "      <td>9.03</td>\n",
       "    </tr>\n",
       "  </tbody>\n",
       "</table>\n",
       "</div>"
      ],
      "text/plain": [
       "            open  high   low  close\n",
       "2017-06-01  9.20  9.23  9.12   9.19\n",
       "2017-06-02  9.18  9.29  9.14   9.17\n",
       "2017-06-05  9.13  9.17  8.99   9.03"
      ]
     },
     "execution_count": 23,
     "metadata": {},
     "output_type": "execute_result"
    }
   ],
   "source": [
    "df['2017-06-01':'2017-06-05']"
   ]
  },
  {
   "cell_type": "markdown",
   "metadata": {},
   "source": [
    "### 使用标签选取数据：\n",
    "df.loc[行标签,列标签]\n",
    "\n",
    "df.loc['a':'b'] #选取 ab 两行数据\n",
    "\n",
    "df.loc[:,'open'] #选取 open 列的数据\n",
    "\n",
    "df.loc 的第一个参数是行标签，第二个参数为列标签（可选参数，默认为所有列标签），两个参数既可以是列表也可以是单个字符，如果两个参数都为列表则返回的是 DataFrame，否则，则为 Series。\n",
    "\n",
    "PS：loc为location的缩写。"
   ]
  },
  {
   "cell_type": "code",
   "execution_count": 27,
   "metadata": {},
   "outputs": [
    {
     "data": {
      "text/plain": [
       "9.1999999999999993"
      ]
     },
     "execution_count": 27,
     "metadata": {},
     "output_type": "execute_result"
    }
   ],
   "source": [
    "df.loc['2017-06-01','open']"
   ]
  },
  {
   "cell_type": "code",
   "execution_count": 30,
   "metadata": {},
   "outputs": [
    {
     "data": {
      "text/html": [
       "<div>\n",
       "<table border=\"1\" class=\"dataframe\">\n",
       "  <thead>\n",
       "    <tr style=\"text-align: right;\">\n",
       "      <th></th>\n",
       "      <th>open</th>\n",
       "      <th>high</th>\n",
       "      <th>low</th>\n",
       "      <th>close</th>\n",
       "    </tr>\n",
       "  </thead>\n",
       "  <tbody>\n",
       "    <tr>\n",
       "      <th>2017-06-01</th>\n",
       "      <td>9.20</td>\n",
       "      <td>9.23</td>\n",
       "      <td>9.12</td>\n",
       "      <td>9.19</td>\n",
       "    </tr>\n",
       "    <tr>\n",
       "      <th>2017-06-02</th>\n",
       "      <td>9.18</td>\n",
       "      <td>9.29</td>\n",
       "      <td>9.14</td>\n",
       "      <td>9.17</td>\n",
       "    </tr>\n",
       "    <tr>\n",
       "      <th>2017-06-05</th>\n",
       "      <td>9.13</td>\n",
       "      <td>9.17</td>\n",
       "      <td>8.99</td>\n",
       "      <td>9.03</td>\n",
       "    </tr>\n",
       "    <tr>\n",
       "      <th>2017-06-06</th>\n",
       "      <td>9.01</td>\n",
       "      <td>9.06</td>\n",
       "      <td>8.99</td>\n",
       "      <td>9.04</td>\n",
       "    </tr>\n",
       "  </tbody>\n",
       "</table>\n",
       "</div>"
      ],
      "text/plain": [
       "            open  high   low  close\n",
       "2017-06-01  9.20  9.23  9.12   9.19\n",
       "2017-06-02  9.18  9.29  9.14   9.17\n",
       "2017-06-05  9.13  9.17  8.99   9.03\n",
       "2017-06-06  9.01  9.06  8.99   9.04"
      ]
     },
     "execution_count": 30,
     "metadata": {},
     "output_type": "execute_result"
    }
   ],
   "source": [
    "df.loc['2017-06-01':'2017-06-06']"
   ]
  },
  {
   "cell_type": "code",
   "execution_count": 31,
   "metadata": {},
   "outputs": [
    {
     "data": {
      "text/plain": [
       "2017-06-01    9.20\n",
       "2017-06-02    9.18\n",
       "2017-06-05    9.13\n",
       "2017-06-06    9.01\n",
       "2017-06-07    9.02\n",
       "2017-06-08    9.11\n",
       "2017-06-09    9.15\n",
       "2017-06-12    9.15\n",
       "2017-06-13    9.11\n",
       "2017-06-14    9.12\n",
       "Name: open, dtype: float64"
      ]
     },
     "execution_count": 31,
     "metadata": {},
     "output_type": "execute_result"
    }
   ],
   "source": [
    "df.loc[:, 'open']"
   ]
  },
  {
   "cell_type": "code",
   "execution_count": 32,
   "metadata": {},
   "outputs": [
    {
     "data": {
      "text/plain": [
       "2017-06-01    9.20\n",
       "2017-06-02    9.18\n",
       "2017-06-05    9.13\n",
       "2017-06-06    9.01\n",
       "Name: open, dtype: float64"
      ]
     },
     "execution_count": 32,
     "metadata": {},
     "output_type": "execute_result"
    }
   ],
   "source": [
    "df.loc['2017-06-01':'2017-06-06','open']"
   ]
  },
  {
   "cell_type": "markdown",
   "metadata": {},
   "source": [
    "### 使用位置选取数据：\n",
    "\n",
    "df.iloc[行位置,列位置]\n",
    "\n",
    "df.iloc[1,1] #选取第二行，第二列的值，返回的为单个值\n",
    "\n",
    "df.iloc[[0,2],:] #选取第一行及第三行的数据\n",
    "\n",
    "df.iloc[0:2,:] #选取第一行到第三行（不包含）的数据\n",
    "\n",
    "df.iloc[:,1] #选取所有记录的第二列的值，返回的为一个Series\n",
    "\n",
    "df.iloc[1,:] #选取第一行数据，返回的为一个Series\n",
    "\n",
    "PS：iloc 则为 integer & location 的缩写"
   ]
  },
  {
   "cell_type": "code",
   "execution_count": 33,
   "metadata": {},
   "outputs": [
    {
     "data": {
      "text/plain": [
       "9.2899999999999991"
      ]
     },
     "execution_count": 33,
     "metadata": {},
     "output_type": "execute_result"
    }
   ],
   "source": [
    "df.iloc[1,1] # 选取第二行，第二列的值，返回的为单个值"
   ]
  },
  {
   "cell_type": "code",
   "execution_count": 56,
   "metadata": {},
   "outputs": [
    {
     "data": {
      "text/html": [
       "<div>\n",
       "<table border=\"1\" class=\"dataframe\">\n",
       "  <thead>\n",
       "    <tr style=\"text-align: right;\">\n",
       "      <th></th>\n",
       "      <th>open</th>\n",
       "      <th>high</th>\n",
       "      <th>low</th>\n",
       "      <th>close</th>\n",
       "    </tr>\n",
       "  </thead>\n",
       "  <tbody>\n",
       "    <tr>\n",
       "      <th>2017-06-01</th>\n",
       "      <td>9.20</td>\n",
       "      <td>9.23</td>\n",
       "      <td>9.12</td>\n",
       "      <td>9.19</td>\n",
       "    </tr>\n",
       "    <tr>\n",
       "      <th>2017-06-05</th>\n",
       "      <td>9.13</td>\n",
       "      <td>9.17</td>\n",
       "      <td>8.99</td>\n",
       "      <td>9.03</td>\n",
       "    </tr>\n",
       "  </tbody>\n",
       "</table>\n",
       "</div>"
      ],
      "text/plain": [
       "            open  high   low  close\n",
       "2017-06-01  9.20  9.23  9.12   9.19\n",
       "2017-06-05  9.13  9.17  8.99   9.03"
      ]
     },
     "execution_count": 56,
     "metadata": {},
     "output_type": "execute_result"
    }
   ],
   "source": [
    "df.iloc[[0,2],:] # 选取第一行及第三行的数据"
   ]
  },
  {
   "cell_type": "code",
   "execution_count": 57,
   "metadata": {},
   "outputs": [
    {
     "data": {
      "text/html": [
       "<div>\n",
       "<table border=\"1\" class=\"dataframe\">\n",
       "  <thead>\n",
       "    <tr style=\"text-align: right;\">\n",
       "      <th></th>\n",
       "      <th>open</th>\n",
       "      <th>high</th>\n",
       "      <th>low</th>\n",
       "      <th>close</th>\n",
       "    </tr>\n",
       "  </thead>\n",
       "  <tbody>\n",
       "    <tr>\n",
       "      <th>2017-06-01</th>\n",
       "      <td>9.20</td>\n",
       "      <td>9.23</td>\n",
       "      <td>9.12</td>\n",
       "      <td>9.19</td>\n",
       "    </tr>\n",
       "    <tr>\n",
       "      <th>2017-06-02</th>\n",
       "      <td>9.18</td>\n",
       "      <td>9.29</td>\n",
       "      <td>9.14</td>\n",
       "      <td>9.17</td>\n",
       "    </tr>\n",
       "  </tbody>\n",
       "</table>\n",
       "</div>"
      ],
      "text/plain": [
       "            open  high   low  close\n",
       "2017-06-01  9.20  9.23  9.12   9.19\n",
       "2017-06-02  9.18  9.29  9.14   9.17"
      ]
     },
     "execution_count": 57,
     "metadata": {},
     "output_type": "execute_result"
    }
   ],
   "source": [
    "df.iloc[0:2,:] # 选取第一行到第三行（不包含）的数据"
   ]
  },
  {
   "cell_type": "code",
   "execution_count": 58,
   "metadata": {},
   "outputs": [
    {
     "data": {
      "text/plain": [
       "2017-06-01    9.23\n",
       "2017-06-02    9.29\n",
       "2017-06-05    9.17\n",
       "2017-06-06    9.06\n",
       "2017-06-07    9.15\n",
       "2017-06-08    9.15\n",
       "2017-06-09    9.22\n",
       "2017-06-12    9.19\n",
       "2017-06-13    9.14\n",
       "2017-06-14    9.13\n",
       "Name: high, dtype: float64"
      ]
     },
     "execution_count": 58,
     "metadata": {},
     "output_type": "execute_result"
    }
   ],
   "source": [
    "df.iloc[:,1] # 选取所有记录的第一列的值，返回的为一个Series"
   ]
  },
  {
   "cell_type": "code",
   "execution_count": 60,
   "metadata": {},
   "outputs": [
    {
     "data": {
      "text/plain": [
       "open     9.18\n",
       "high     9.29\n",
       "low      9.14\n",
       "close    9.17\n",
       "Name: 2017-06-02 00:00:00, dtype: float64"
      ]
     },
     "execution_count": 60,
     "metadata": {},
     "output_type": "execute_result"
    }
   ],
   "source": [
    "df.iloc[1,:] # 选取第一行数据，返回的为一个Series"
   ]
  },
  {
   "cell_type": "markdown",
   "metadata": {},
   "source": [
    "#### 更广义的切片方式是使用.ix，它自动根据给到的索引类型判断是使用位置还是标签进行切片"
   ]
  },
  {
   "cell_type": "code",
   "execution_count": 62,
   "metadata": {},
   "outputs": [
    {
     "data": {
      "text/plain": [
       "9.2899999999999991"
      ]
     },
     "execution_count": 62,
     "metadata": {},
     "output_type": "execute_result"
    }
   ],
   "source": [
    "df.ix[1,1]"
   ]
  },
  {
   "cell_type": "code",
   "execution_count": 63,
   "metadata": {},
   "outputs": [
    {
     "data": {
      "text/html": [
       "<div>\n",
       "<table border=\"1\" class=\"dataframe\">\n",
       "  <thead>\n",
       "    <tr style=\"text-align: right;\">\n",
       "      <th></th>\n",
       "      <th>open</th>\n",
       "      <th>high</th>\n",
       "      <th>low</th>\n",
       "      <th>close</th>\n",
       "    </tr>\n",
       "  </thead>\n",
       "  <tbody>\n",
       "    <tr>\n",
       "      <th>2017-06-01</th>\n",
       "      <td>9.20</td>\n",
       "      <td>9.23</td>\n",
       "      <td>9.12</td>\n",
       "      <td>9.19</td>\n",
       "    </tr>\n",
       "    <tr>\n",
       "      <th>2017-06-02</th>\n",
       "      <td>9.18</td>\n",
       "      <td>9.29</td>\n",
       "      <td>9.14</td>\n",
       "      <td>9.17</td>\n",
       "    </tr>\n",
       "    <tr>\n",
       "      <th>2017-06-05</th>\n",
       "      <td>9.13</td>\n",
       "      <td>9.17</td>\n",
       "      <td>8.99</td>\n",
       "      <td>9.03</td>\n",
       "    </tr>\n",
       "  </tbody>\n",
       "</table>\n",
       "</div>"
      ],
      "text/plain": [
       "            open  high   low  close\n",
       "2017-06-01  9.20  9.23  9.12   9.19\n",
       "2017-06-02  9.18  9.29  9.14   9.17\n",
       "2017-06-05  9.13  9.17  8.99   9.03"
      ]
     },
     "execution_count": 63,
     "metadata": {},
     "output_type": "execute_result"
    }
   ],
   "source": [
    "df.ix['2017-06-01':'2017-06-05']"
   ]
  },
  {
   "cell_type": "code",
   "execution_count": 65,
   "metadata": {},
   "outputs": [
    {
     "data": {
      "text/plain": [
       "9.1300000000000008"
      ]
     },
     "execution_count": 65,
     "metadata": {},
     "output_type": "execute_result"
    }
   ],
   "source": [
    "df.ix['2017-06-05','open']"
   ]
  },
  {
   "cell_type": "code",
   "execution_count": 66,
   "metadata": {},
   "outputs": [
    {
     "data": {
      "text/plain": [
       "9.1799999999999997"
      ]
     },
     "execution_count": 66,
     "metadata": {},
     "output_type": "execute_result"
    }
   ],
   "source": [
    "df.ix[1,'open']"
   ]
  },
  {
   "cell_type": "code",
   "execution_count": 68,
   "metadata": {},
   "outputs": [
    {
     "data": {
      "text/plain": [
       "9.1999999999999993"
      ]
     },
     "execution_count": 68,
     "metadata": {},
     "output_type": "execute_result"
    }
   ],
   "source": [
    "df.ix['2017-06-01',0]"
   ]
  },
  {
   "cell_type": "markdown",
   "metadata": {},
   "source": [
    "#### 通过逻辑指针进行数据切片：\n",
    "\n",
    "df[逻辑条件]\n",
    "\n",
    "df[df.one >= 2] #单个逻辑条件\n",
    "\n",
    "df[(df.one >=1 ) & (df.one < 3) ] #多个逻辑条件组合"
   ]
  },
  {
   "cell_type": "code",
   "execution_count": 69,
   "metadata": {},
   "outputs": [
    {
     "data": {
      "text/html": [
       "<div>\n",
       "<table border=\"1\" class=\"dataframe\">\n",
       "  <thead>\n",
       "    <tr style=\"text-align: right;\">\n",
       "      <th></th>\n",
       "      <th>open</th>\n",
       "      <th>high</th>\n",
       "      <th>low</th>\n",
       "      <th>close</th>\n",
       "    </tr>\n",
       "  </thead>\n",
       "  <tbody>\n",
       "    <tr>\n",
       "      <th>2017-06-01</th>\n",
       "      <td>9.20</td>\n",
       "      <td>9.23</td>\n",
       "      <td>9.12</td>\n",
       "      <td>9.19</td>\n",
       "    </tr>\n",
       "    <tr>\n",
       "      <th>2017-06-02</th>\n",
       "      <td>9.18</td>\n",
       "      <td>9.29</td>\n",
       "      <td>9.14</td>\n",
       "      <td>9.17</td>\n",
       "    </tr>\n",
       "    <tr>\n",
       "      <th>2017-06-05</th>\n",
       "      <td>9.13</td>\n",
       "      <td>9.17</td>\n",
       "      <td>8.99</td>\n",
       "      <td>9.03</td>\n",
       "    </tr>\n",
       "    <tr>\n",
       "      <th>2017-06-09</th>\n",
       "      <td>9.15</td>\n",
       "      <td>9.22</td>\n",
       "      <td>9.12</td>\n",
       "      <td>9.15</td>\n",
       "    </tr>\n",
       "    <tr>\n",
       "      <th>2017-06-12</th>\n",
       "      <td>9.15</td>\n",
       "      <td>9.19</td>\n",
       "      <td>9.10</td>\n",
       "      <td>9.11</td>\n",
       "    </tr>\n",
       "  </tbody>\n",
       "</table>\n",
       "</div>"
      ],
      "text/plain": [
       "            open  high   low  close\n",
       "2017-06-01  9.20  9.23  9.12   9.19\n",
       "2017-06-02  9.18  9.29  9.14   9.17\n",
       "2017-06-05  9.13  9.17  8.99   9.03\n",
       "2017-06-09  9.15  9.22  9.12   9.15\n",
       "2017-06-12  9.15  9.19  9.10   9.11"
      ]
     },
     "execution_count": 69,
     "metadata": {},
     "output_type": "execute_result"
    }
   ],
   "source": [
    "# 筛选出 open 大于 8.8 的数据\n",
    "df[df.open > 9.12]"
   ]
  },
  {
   "cell_type": "code",
   "execution_count": 71,
   "metadata": {},
   "outputs": [
    {
     "data": {
      "text/html": [
       "<div>\n",
       "<table border=\"1\" class=\"dataframe\">\n",
       "  <thead>\n",
       "    <tr style=\"text-align: right;\">\n",
       "      <th></th>\n",
       "      <th>open</th>\n",
       "      <th>high</th>\n",
       "      <th>low</th>\n",
       "      <th>close</th>\n",
       "    </tr>\n",
       "  </thead>\n",
       "  <tbody>\n",
       "    <tr>\n",
       "      <th>2017-06-05</th>\n",
       "      <td>9.13</td>\n",
       "      <td>9.17</td>\n",
       "      <td>8.99</td>\n",
       "      <td>9.03</td>\n",
       "    </tr>\n",
       "    <tr>\n",
       "      <th>2017-06-09</th>\n",
       "      <td>9.15</td>\n",
       "      <td>9.22</td>\n",
       "      <td>9.12</td>\n",
       "      <td>9.15</td>\n",
       "    </tr>\n",
       "    <tr>\n",
       "      <th>2017-06-12</th>\n",
       "      <td>9.15</td>\n",
       "      <td>9.19</td>\n",
       "      <td>9.10</td>\n",
       "      <td>9.11</td>\n",
       "    </tr>\n",
       "  </tbody>\n",
       "</table>\n",
       "</div>"
      ],
      "text/plain": [
       "            open  high   low  close\n",
       "2017-06-05  9.13  9.17  8.99   9.03\n",
       "2017-06-09  9.15  9.22  9.12   9.15\n",
       "2017-06-12  9.15  9.19  9.10   9.11"
      ]
     },
     "execution_count": 71,
     "metadata": {},
     "output_type": "execute_result"
    }
   ],
   "source": [
    "# 筛选出 open 大于 9.12 的数据，并且 close 小于 9.17 的数据\n",
    "df[(df.open >9.12) & (df.close < 9.17)]"
   ]
  },
  {
   "cell_type": "markdown",
   "metadata": {},
   "source": [
    "使用 条件过来更改数据。"
   ]
  },
  {
   "cell_type": "code",
   "execution_count": 72,
   "metadata": {},
   "outputs": [
    {
     "data": {
      "text/html": [
       "<div>\n",
       "<table border=\"1\" class=\"dataframe\">\n",
       "  <thead>\n",
       "    <tr style=\"text-align: right;\">\n",
       "      <th></th>\n",
       "      <th>open</th>\n",
       "      <th>high</th>\n",
       "      <th>low</th>\n",
       "      <th>close</th>\n",
       "    </tr>\n",
       "  </thead>\n",
       "  <tbody>\n",
       "    <tr>\n",
       "      <th>2017-06-01</th>\n",
       "      <td>NaN</td>\n",
       "      <td>NaN</td>\n",
       "      <td>NaN</td>\n",
       "      <td>NaN</td>\n",
       "    </tr>\n",
       "    <tr>\n",
       "      <th>2017-06-02</th>\n",
       "      <td>NaN</td>\n",
       "      <td>NaN</td>\n",
       "      <td>NaN</td>\n",
       "      <td>NaN</td>\n",
       "    </tr>\n",
       "    <tr>\n",
       "      <th>2017-06-05</th>\n",
       "      <td>NaN</td>\n",
       "      <td>NaN</td>\n",
       "      <td>NaN</td>\n",
       "      <td>NaN</td>\n",
       "    </tr>\n",
       "    <tr>\n",
       "      <th>2017-06-06</th>\n",
       "      <td>NaN</td>\n",
       "      <td>NaN</td>\n",
       "      <td>NaN</td>\n",
       "      <td>NaN</td>\n",
       "    </tr>\n",
       "    <tr>\n",
       "      <th>2017-06-07</th>\n",
       "      <td>NaN</td>\n",
       "      <td>NaN</td>\n",
       "      <td>NaN</td>\n",
       "      <td>NaN</td>\n",
       "    </tr>\n",
       "    <tr>\n",
       "      <th>2017-06-08</th>\n",
       "      <td>NaN</td>\n",
       "      <td>NaN</td>\n",
       "      <td>NaN</td>\n",
       "      <td>NaN</td>\n",
       "    </tr>\n",
       "    <tr>\n",
       "      <th>2017-06-09</th>\n",
       "      <td>NaN</td>\n",
       "      <td>NaN</td>\n",
       "      <td>NaN</td>\n",
       "      <td>NaN</td>\n",
       "    </tr>\n",
       "    <tr>\n",
       "      <th>2017-06-12</th>\n",
       "      <td>NaN</td>\n",
       "      <td>NaN</td>\n",
       "      <td>NaN</td>\n",
       "      <td>NaN</td>\n",
       "    </tr>\n",
       "    <tr>\n",
       "      <th>2017-06-13</th>\n",
       "      <td>NaN</td>\n",
       "      <td>NaN</td>\n",
       "      <td>NaN</td>\n",
       "      <td>NaN</td>\n",
       "    </tr>\n",
       "    <tr>\n",
       "      <th>2017-06-14</th>\n",
       "      <td>NaN</td>\n",
       "      <td>NaN</td>\n",
       "      <td>NaN</td>\n",
       "      <td>NaN</td>\n",
       "    </tr>\n",
       "  </tbody>\n",
       "</table>\n",
       "</div>"
      ],
      "text/plain": [
       "            open  high  low  close\n",
       "2017-06-01   NaN   NaN  NaN    NaN\n",
       "2017-06-02   NaN   NaN  NaN    NaN\n",
       "2017-06-05   NaN   NaN  NaN    NaN\n",
       "2017-06-06   NaN   NaN  NaN    NaN\n",
       "2017-06-07   NaN   NaN  NaN    NaN\n",
       "2017-06-08   NaN   NaN  NaN    NaN\n",
       "2017-06-09   NaN   NaN  NaN    NaN\n",
       "2017-06-12   NaN   NaN  NaN    NaN\n",
       "2017-06-13   NaN   NaN  NaN    NaN\n",
       "2017-06-14   NaN   NaN  NaN    NaN"
      ]
     },
     "execution_count": 72,
     "metadata": {},
     "output_type": "execute_result"
    }
   ],
   "source": [
    "df[df>10]"
   ]
  },
  {
   "cell_type": "markdown",
   "metadata": {},
   "source": [
    "观察可以发现，df 中小于 9 的数都变为 NaN。\n",
    "\n",
    "下面我们就把大于 9 的数赋值为0."
   ]
  },
  {
   "cell_type": "code",
   "execution_count": 73,
   "metadata": {
    "collapsed": true
   },
   "outputs": [],
   "source": [
    "df[df > 9.12] = 0"
   ]
  },
  {
   "cell_type": "code",
   "execution_count": 74,
   "metadata": {},
   "outputs": [
    {
     "data": {
      "text/html": [
       "<div>\n",
       "<table border=\"1\" class=\"dataframe\">\n",
       "  <thead>\n",
       "    <tr style=\"text-align: right;\">\n",
       "      <th></th>\n",
       "      <th>open</th>\n",
       "      <th>high</th>\n",
       "      <th>low</th>\n",
       "      <th>close</th>\n",
       "    </tr>\n",
       "  </thead>\n",
       "  <tbody>\n",
       "    <tr>\n",
       "      <th>2017-06-01</th>\n",
       "      <td>0.00</td>\n",
       "      <td>0.00</td>\n",
       "      <td>9.12</td>\n",
       "      <td>0.00</td>\n",
       "    </tr>\n",
       "    <tr>\n",
       "      <th>2017-06-02</th>\n",
       "      <td>0.00</td>\n",
       "      <td>0.00</td>\n",
       "      <td>0.00</td>\n",
       "      <td>0.00</td>\n",
       "    </tr>\n",
       "    <tr>\n",
       "      <th>2017-06-05</th>\n",
       "      <td>0.00</td>\n",
       "      <td>0.00</td>\n",
       "      <td>8.99</td>\n",
       "      <td>9.03</td>\n",
       "    </tr>\n",
       "    <tr>\n",
       "      <th>2017-06-06</th>\n",
       "      <td>9.01</td>\n",
       "      <td>9.06</td>\n",
       "      <td>8.99</td>\n",
       "      <td>9.04</td>\n",
       "    </tr>\n",
       "    <tr>\n",
       "      <th>2017-06-07</th>\n",
       "      <td>9.02</td>\n",
       "      <td>0.00</td>\n",
       "      <td>9.01</td>\n",
       "      <td>0.00</td>\n",
       "    </tr>\n",
       "    <tr>\n",
       "      <th>2017-06-08</th>\n",
       "      <td>9.11</td>\n",
       "      <td>0.00</td>\n",
       "      <td>9.08</td>\n",
       "      <td>0.00</td>\n",
       "    </tr>\n",
       "    <tr>\n",
       "      <th>2017-06-09</th>\n",
       "      <td>0.00</td>\n",
       "      <td>0.00</td>\n",
       "      <td>9.12</td>\n",
       "      <td>0.00</td>\n",
       "    </tr>\n",
       "    <tr>\n",
       "      <th>2017-06-12</th>\n",
       "      <td>0.00</td>\n",
       "      <td>0.00</td>\n",
       "      <td>9.10</td>\n",
       "      <td>9.11</td>\n",
       "    </tr>\n",
       "    <tr>\n",
       "      <th>2017-06-13</th>\n",
       "      <td>9.11</td>\n",
       "      <td>0.00</td>\n",
       "      <td>9.05</td>\n",
       "      <td>9.12</td>\n",
       "    </tr>\n",
       "    <tr>\n",
       "      <th>2017-06-14</th>\n",
       "      <td>9.12</td>\n",
       "      <td>0.00</td>\n",
       "      <td>9.04</td>\n",
       "      <td>9.08</td>\n",
       "    </tr>\n",
       "  </tbody>\n",
       "</table>\n",
       "</div>"
      ],
      "text/plain": [
       "            open  high   low  close\n",
       "2017-06-01  0.00  0.00  9.12   0.00\n",
       "2017-06-02  0.00  0.00  0.00   0.00\n",
       "2017-06-05  0.00  0.00  8.99   9.03\n",
       "2017-06-06  9.01  9.06  8.99   9.04\n",
       "2017-06-07  9.02  0.00  9.01   0.00\n",
       "2017-06-08  9.11  0.00  9.08   0.00\n",
       "2017-06-09  0.00  0.00  9.12   0.00\n",
       "2017-06-12  0.00  0.00  9.10   9.11\n",
       "2017-06-13  9.11  0.00  9.05   9.12\n",
       "2017-06-14  9.12  0.00  9.04   9.08"
      ]
     },
     "execution_count": 74,
     "metadata": {},
     "output_type": "execute_result"
    }
   ],
   "source": [
    "df"
   ]
  },
  {
   "cell_type": "markdown",
   "metadata": {},
   "source": [
    "发现大于 9.12 的数都被替换为了0.\n",
    "\n",
    "使用isin()方法来过滤在指定列中的数据："
   ]
  },
  {
   "cell_type": "code",
   "execution_count": 75,
   "metadata": {},
   "outputs": [
    {
     "data": {
      "text/html": [
       "<div>\n",
       "<table border=\"1\" class=\"dataframe\">\n",
       "  <thead>\n",
       "    <tr style=\"text-align: right;\">\n",
       "      <th></th>\n",
       "      <th>open</th>\n",
       "      <th>high</th>\n",
       "      <th>low</th>\n",
       "      <th>close</th>\n",
       "    </tr>\n",
       "  </thead>\n",
       "  <tbody>\n",
       "    <tr>\n",
       "      <th>2017-06-01</th>\n",
       "      <td>0.00</td>\n",
       "      <td>0.0</td>\n",
       "      <td>9.12</td>\n",
       "      <td>0.00</td>\n",
       "    </tr>\n",
       "    <tr>\n",
       "      <th>2017-06-02</th>\n",
       "      <td>0.00</td>\n",
       "      <td>0.0</td>\n",
       "      <td>0.00</td>\n",
       "      <td>0.00</td>\n",
       "    </tr>\n",
       "    <tr>\n",
       "      <th>2017-06-05</th>\n",
       "      <td>0.00</td>\n",
       "      <td>0.0</td>\n",
       "      <td>8.99</td>\n",
       "      <td>9.03</td>\n",
       "    </tr>\n",
       "    <tr>\n",
       "      <th>2017-06-07</th>\n",
       "      <td>9.02</td>\n",
       "      <td>0.0</td>\n",
       "      <td>9.01</td>\n",
       "      <td>0.00</td>\n",
       "    </tr>\n",
       "    <tr>\n",
       "      <th>2017-06-08</th>\n",
       "      <td>9.11</td>\n",
       "      <td>0.0</td>\n",
       "      <td>9.08</td>\n",
       "      <td>0.00</td>\n",
       "    </tr>\n",
       "    <tr>\n",
       "      <th>2017-06-09</th>\n",
       "      <td>0.00</td>\n",
       "      <td>0.0</td>\n",
       "      <td>9.12</td>\n",
       "      <td>0.00</td>\n",
       "    </tr>\n",
       "    <tr>\n",
       "      <th>2017-06-12</th>\n",
       "      <td>0.00</td>\n",
       "      <td>0.0</td>\n",
       "      <td>9.10</td>\n",
       "      <td>9.11</td>\n",
       "    </tr>\n",
       "    <tr>\n",
       "      <th>2017-06-13</th>\n",
       "      <td>9.11</td>\n",
       "      <td>0.0</td>\n",
       "      <td>9.05</td>\n",
       "      <td>9.12</td>\n",
       "    </tr>\n",
       "    <tr>\n",
       "      <th>2017-06-14</th>\n",
       "      <td>9.12</td>\n",
       "      <td>0.0</td>\n",
       "      <td>9.04</td>\n",
       "      <td>9.08</td>\n",
       "    </tr>\n",
       "  </tbody>\n",
       "</table>\n",
       "</div>"
      ],
      "text/plain": [
       "            open  high   low  close\n",
       "2017-06-01  0.00   0.0  9.12   0.00\n",
       "2017-06-02  0.00   0.0  0.00   0.00\n",
       "2017-06-05  0.00   0.0  8.99   9.03\n",
       "2017-06-07  9.02   0.0  9.01   0.00\n",
       "2017-06-08  9.11   0.0  9.08   0.00\n",
       "2017-06-09  0.00   0.0  9.12   0.00\n",
       "2017-06-12  0.00   0.0  9.10   9.11\n",
       "2017-06-13  9.11   0.0  9.05   9.12\n",
       "2017-06-14  9.12   0.0  9.04   9.08"
      ]
     },
     "execution_count": 75,
     "metadata": {},
     "output_type": "execute_result"
    }
   ],
   "source": [
    "# 选取 high 列中数为 0 和 9 的数。\n",
    "df[df['high'].isin([0.00,9.00])]"
   ]
  },
  {
   "cell_type": "markdown",
   "metadata": {},
   "source": [
    "## Panel\n",
    "平台get_price，如果是多支股票, 则返回pandas.Panel对象。\n",
    "\n",
    "可通过 panel[列标,行标，股票代码] 获取数据."
   ]
  },
  {
   "cell_type": "code",
   "execution_count": 77,
   "metadata": {},
   "outputs": [
    {
     "data": {
      "text/plain": [
       "<class 'rqcommons.pandas_patch.HybridDataPanel'>\n",
       "Dimensions: 4 (items) x 10 (major_axis) x 2 (minor_axis)\n",
       "Items axis: open to close\n",
       "Major_axis axis: 2017-06-01 00:00:00 to 2017-06-14 00:00:00\n",
       "Minor_axis axis: 000001.XSHE to 000002.XSHE"
      ]
     },
     "execution_count": 77,
     "metadata": {},
     "output_type": "execute_result"
    }
   ],
   "source": [
    "panel = get_price(['000001.XSHE','000002.XSHE'],'2017-06-01','2017-06-14', '1d', fields=['open','high','low','close'])\n",
    "panel"
   ]
  },
  {
   "cell_type": "markdown",
   "metadata": {},
   "source": [
    "由打印的结果可以看出：\n",
    "\n",
    "列标(Items axis: close to open)\n",
    "\n",
    "行标(Major_axis axis: 2017-06-01 00:00:00 to 2017-06-14 00:00:00)\n",
    "\n",
    "股票代码(Minor_axis axis: 000001.XSHE to 000002.XSHE)"
   ]
  },
  {
   "cell_type": "code",
   "execution_count": 78,
   "metadata": {},
   "outputs": [
    {
     "data": {
      "text/html": [
       "<div>\n",
       "<table border=\"1\" class=\"dataframe\">\n",
       "  <thead>\n",
       "    <tr style=\"text-align: right;\">\n",
       "      <th></th>\n",
       "      <th>000001.XSHE</th>\n",
       "      <th>000002.XSHE</th>\n",
       "    </tr>\n",
       "  </thead>\n",
       "  <tbody>\n",
       "    <tr>\n",
       "      <th>2017-06-01</th>\n",
       "      <td>9.20</td>\n",
       "      <td>21.10</td>\n",
       "    </tr>\n",
       "    <tr>\n",
       "      <th>2017-06-02</th>\n",
       "      <td>9.18</td>\n",
       "      <td>21.08</td>\n",
       "    </tr>\n",
       "    <tr>\n",
       "      <th>2017-06-05</th>\n",
       "      <td>9.13</td>\n",
       "      <td>20.75</td>\n",
       "    </tr>\n",
       "    <tr>\n",
       "      <th>2017-06-06</th>\n",
       "      <td>9.01</td>\n",
       "      <td>21.05</td>\n",
       "    </tr>\n",
       "    <tr>\n",
       "      <th>2017-06-07</th>\n",
       "      <td>9.02</td>\n",
       "      <td>20.87</td>\n",
       "    </tr>\n",
       "    <tr>\n",
       "      <th>2017-06-08</th>\n",
       "      <td>9.11</td>\n",
       "      <td>20.87</td>\n",
       "    </tr>\n",
       "    <tr>\n",
       "      <th>2017-06-09</th>\n",
       "      <td>9.15</td>\n",
       "      <td>20.87</td>\n",
       "    </tr>\n",
       "    <tr>\n",
       "      <th>2017-06-12</th>\n",
       "      <td>9.15</td>\n",
       "      <td>21.48</td>\n",
       "    </tr>\n",
       "    <tr>\n",
       "      <th>2017-06-13</th>\n",
       "      <td>9.11</td>\n",
       "      <td>21.91</td>\n",
       "    </tr>\n",
       "    <tr>\n",
       "      <th>2017-06-14</th>\n",
       "      <td>9.12</td>\n",
       "      <td>21.90</td>\n",
       "    </tr>\n",
       "  </tbody>\n",
       "</table>\n",
       "</div>"
      ],
      "text/plain": [
       "            000001.XSHE  000002.XSHE\n",
       "2017-06-01         9.20        21.10\n",
       "2017-06-02         9.18        21.08\n",
       "2017-06-05         9.13        20.75\n",
       "2017-06-06         9.01        21.05\n",
       "2017-06-07         9.02        20.87\n",
       "2017-06-08         9.11        20.87\n",
       "2017-06-09         9.15        20.87\n",
       "2017-06-12         9.15        21.48\n",
       "2017-06-13         9.11        21.91\n",
       "2017-06-14         9.12        21.90"
      ]
     },
     "execution_count": 78,
     "metadata": {},
     "output_type": "execute_result"
    }
   ],
   "source": [
    "# 取出 'open'数据\n",
    "panel['open',:,:]"
   ]
  },
  {
   "cell_type": "code",
   "execution_count": 79,
   "metadata": {},
   "outputs": [
    {
     "data": {
      "text/html": [
       "<div>\n",
       "<table border=\"1\" class=\"dataframe\">\n",
       "  <thead>\n",
       "    <tr style=\"text-align: right;\">\n",
       "      <th></th>\n",
       "      <th>open</th>\n",
       "      <th>high</th>\n",
       "      <th>low</th>\n",
       "      <th>close</th>\n",
       "    </tr>\n",
       "  </thead>\n",
       "  <tbody>\n",
       "    <tr>\n",
       "      <th>000001.XSHE</th>\n",
       "      <td>9.2</td>\n",
       "      <td>9.23</td>\n",
       "      <td>9.12</td>\n",
       "      <td>9.19</td>\n",
       "    </tr>\n",
       "    <tr>\n",
       "      <th>000002.XSHE</th>\n",
       "      <td>21.1</td>\n",
       "      <td>21.37</td>\n",
       "      <td>20.93</td>\n",
       "      <td>21.09</td>\n",
       "    </tr>\n",
       "  </tbody>\n",
       "</table>\n",
       "</div>"
      ],
      "text/plain": [
       "             open   high    low  close\n",
       "000001.XSHE   9.2   9.23   9.12   9.19\n",
       "000002.XSHE  21.1  21.37  20.93  21.09"
      ]
     },
     "execution_count": 79,
     "metadata": {},
     "output_type": "execute_result"
    }
   ],
   "source": [
    "# 取出 '2016-07-15'数据\n",
    "panel[:,'2017-06-01',:]"
   ]
  },
  {
   "cell_type": "code",
   "execution_count": 80,
   "metadata": {},
   "outputs": [
    {
     "data": {
      "text/html": [
       "<div>\n",
       "<table border=\"1\" class=\"dataframe\">\n",
       "  <thead>\n",
       "    <tr style=\"text-align: right;\">\n",
       "      <th></th>\n",
       "      <th>open</th>\n",
       "      <th>high</th>\n",
       "      <th>low</th>\n",
       "      <th>close</th>\n",
       "    </tr>\n",
       "  </thead>\n",
       "  <tbody>\n",
       "    <tr>\n",
       "      <th>2017-06-01</th>\n",
       "      <td>9.20</td>\n",
       "      <td>9.23</td>\n",
       "      <td>9.12</td>\n",
       "      <td>9.19</td>\n",
       "    </tr>\n",
       "    <tr>\n",
       "      <th>2017-06-02</th>\n",
       "      <td>9.18</td>\n",
       "      <td>9.29</td>\n",
       "      <td>9.14</td>\n",
       "      <td>9.17</td>\n",
       "    </tr>\n",
       "    <tr>\n",
       "      <th>2017-06-05</th>\n",
       "      <td>9.13</td>\n",
       "      <td>9.17</td>\n",
       "      <td>8.99</td>\n",
       "      <td>9.03</td>\n",
       "    </tr>\n",
       "    <tr>\n",
       "      <th>2017-06-06</th>\n",
       "      <td>9.01</td>\n",
       "      <td>9.06</td>\n",
       "      <td>8.99</td>\n",
       "      <td>9.04</td>\n",
       "    </tr>\n",
       "    <tr>\n",
       "      <th>2017-06-07</th>\n",
       "      <td>9.02</td>\n",
       "      <td>9.15</td>\n",
       "      <td>9.01</td>\n",
       "      <td>9.13</td>\n",
       "    </tr>\n",
       "    <tr>\n",
       "      <th>2017-06-08</th>\n",
       "      <td>9.11</td>\n",
       "      <td>9.15</td>\n",
       "      <td>9.08</td>\n",
       "      <td>9.13</td>\n",
       "    </tr>\n",
       "    <tr>\n",
       "      <th>2017-06-09</th>\n",
       "      <td>9.15</td>\n",
       "      <td>9.22</td>\n",
       "      <td>9.12</td>\n",
       "      <td>9.15</td>\n",
       "    </tr>\n",
       "    <tr>\n",
       "      <th>2017-06-12</th>\n",
       "      <td>9.15</td>\n",
       "      <td>9.19</td>\n",
       "      <td>9.10</td>\n",
       "      <td>9.11</td>\n",
       "    </tr>\n",
       "    <tr>\n",
       "      <th>2017-06-13</th>\n",
       "      <td>9.11</td>\n",
       "      <td>9.14</td>\n",
       "      <td>9.05</td>\n",
       "      <td>9.12</td>\n",
       "    </tr>\n",
       "    <tr>\n",
       "      <th>2017-06-14</th>\n",
       "      <td>9.12</td>\n",
       "      <td>9.13</td>\n",
       "      <td>9.04</td>\n",
       "      <td>9.08</td>\n",
       "    </tr>\n",
       "  </tbody>\n",
       "</table>\n",
       "</div>"
      ],
      "text/plain": [
       "            open  high   low  close\n",
       "2017-06-01  9.20  9.23  9.12   9.19\n",
       "2017-06-02  9.18  9.29  9.14   9.17\n",
       "2017-06-05  9.13  9.17  8.99   9.03\n",
       "2017-06-06  9.01  9.06  8.99   9.04\n",
       "2017-06-07  9.02  9.15  9.01   9.13\n",
       "2017-06-08  9.11  9.15  9.08   9.13\n",
       "2017-06-09  9.15  9.22  9.12   9.15\n",
       "2017-06-12  9.15  9.19  9.10   9.11\n",
       "2017-06-13  9.11  9.14  9.05   9.12\n",
       "2017-06-14  9.12  9.13  9.04   9.08"
      ]
     },
     "execution_count": 80,
     "metadata": {},
     "output_type": "execute_result"
    }
   ],
   "source": [
    "# 取出 000001 的 DataFrame 数据\n",
    "panel[:,:,'000001.XSHE']"
   ]
  },
  {
   "cell_type": "markdown",
   "metadata": {},
   "source": [
    "Panel 操作与 DataFrame 基本相同，下节会为大家讲解 DataFrame 的数据处理与规整。"
   ]
  },
  {
   "cell_type": "markdown",
   "metadata": {},
   "source": [
    "## 缺失数据处理\n",
    "### 去掉包含缺失值的行："
   ]
  },
  {
   "cell_type": "code",
   "execution_count": 85,
   "metadata": {},
   "outputs": [
    {
     "data": {
      "text/html": [
       "<div>\n",
       "<table border=\"1\" class=\"dataframe\">\n",
       "  <thead>\n",
       "    <tr style=\"text-align: right;\">\n",
       "      <th></th>\n",
       "      <th>open</th>\n",
       "      <th>high</th>\n",
       "      <th>low</th>\n",
       "      <th>close</th>\n",
       "    </tr>\n",
       "  </thead>\n",
       "  <tbody>\n",
       "    <tr>\n",
       "      <th>2017-06-01</th>\n",
       "      <td>9.20</td>\n",
       "      <td>9.23</td>\n",
       "      <td>9.12</td>\n",
       "      <td>9.19</td>\n",
       "    </tr>\n",
       "    <tr>\n",
       "      <th>2017-06-02</th>\n",
       "      <td>9.18</td>\n",
       "      <td>9.29</td>\n",
       "      <td>9.14</td>\n",
       "      <td>9.17</td>\n",
       "    </tr>\n",
       "    <tr>\n",
       "      <th>2017-06-05</th>\n",
       "      <td>9.13</td>\n",
       "      <td>9.17</td>\n",
       "      <td>NaN</td>\n",
       "      <td>9.03</td>\n",
       "    </tr>\n",
       "    <tr>\n",
       "      <th>2017-06-06</th>\n",
       "      <td>9.01</td>\n",
       "      <td>9.06</td>\n",
       "      <td>NaN</td>\n",
       "      <td>9.04</td>\n",
       "    </tr>\n",
       "    <tr>\n",
       "      <th>2017-06-07</th>\n",
       "      <td>9.02</td>\n",
       "      <td>9.15</td>\n",
       "      <td>9.01</td>\n",
       "      <td>9.13</td>\n",
       "    </tr>\n",
       "    <tr>\n",
       "      <th>2017-06-08</th>\n",
       "      <td>9.11</td>\n",
       "      <td>9.15</td>\n",
       "      <td>9.08</td>\n",
       "      <td>9.13</td>\n",
       "    </tr>\n",
       "    <tr>\n",
       "      <th>2017-06-09</th>\n",
       "      <td>9.15</td>\n",
       "      <td>9.22</td>\n",
       "      <td>9.12</td>\n",
       "      <td>9.15</td>\n",
       "    </tr>\n",
       "    <tr>\n",
       "      <th>2017-06-12</th>\n",
       "      <td>9.15</td>\n",
       "      <td>9.19</td>\n",
       "      <td>9.10</td>\n",
       "      <td>9.11</td>\n",
       "    </tr>\n",
       "    <tr>\n",
       "      <th>2017-06-13</th>\n",
       "      <td>9.11</td>\n",
       "      <td>9.14</td>\n",
       "      <td>9.05</td>\n",
       "      <td>9.12</td>\n",
       "    </tr>\n",
       "    <tr>\n",
       "      <th>2017-06-14</th>\n",
       "      <td>9.12</td>\n",
       "      <td>9.13</td>\n",
       "      <td>9.04</td>\n",
       "      <td>9.08</td>\n",
       "    </tr>\n",
       "  </tbody>\n",
       "</table>\n",
       "</div>"
      ],
      "text/plain": [
       "            open  high   low  close\n",
       "2017-06-01  9.20  9.23  9.12   9.19\n",
       "2017-06-02  9.18  9.29  9.14   9.17\n",
       "2017-06-05  9.13  9.17   NaN   9.03\n",
       "2017-06-06  9.01  9.06   NaN   9.04\n",
       "2017-06-07  9.02  9.15  9.01   9.13\n",
       "2017-06-08  9.11  9.15  9.08   9.13\n",
       "2017-06-09  9.15  9.22  9.12   9.15\n",
       "2017-06-12  9.15  9.19  9.10   9.11\n",
       "2017-06-13  9.11  9.14  9.05   9.12\n",
       "2017-06-14  9.12  9.13  9.04   9.08"
      ]
     },
     "execution_count": 85,
     "metadata": {},
     "output_type": "execute_result"
    }
   ],
   "source": [
    "# 获取平安银行近几个工作日的开盘价、最高价、最低价、收盘价。\n",
    "df = get_price('000001.XSHE','2017-06-01','2017-06-14', '1d', fields=['open','high','low','close'])\n",
    "df = df[df > 9.0] \n",
    "df"
   ]
  },
  {
   "cell_type": "code",
   "execution_count": 86,
   "metadata": {},
   "outputs": [
    {
     "data": {
      "text/html": [
       "<div>\n",
       "<table border=\"1\" class=\"dataframe\">\n",
       "  <thead>\n",
       "    <tr style=\"text-align: right;\">\n",
       "      <th></th>\n",
       "      <th>open</th>\n",
       "      <th>high</th>\n",
       "      <th>low</th>\n",
       "      <th>close</th>\n",
       "    </tr>\n",
       "  </thead>\n",
       "  <tbody>\n",
       "    <tr>\n",
       "      <th>2017-06-01</th>\n",
       "      <td>9.20</td>\n",
       "      <td>9.23</td>\n",
       "      <td>9.12</td>\n",
       "      <td>9.19</td>\n",
       "    </tr>\n",
       "    <tr>\n",
       "      <th>2017-06-02</th>\n",
       "      <td>9.18</td>\n",
       "      <td>9.29</td>\n",
       "      <td>9.14</td>\n",
       "      <td>9.17</td>\n",
       "    </tr>\n",
       "    <tr>\n",
       "      <th>2017-06-07</th>\n",
       "      <td>9.02</td>\n",
       "      <td>9.15</td>\n",
       "      <td>9.01</td>\n",
       "      <td>9.13</td>\n",
       "    </tr>\n",
       "    <tr>\n",
       "      <th>2017-06-08</th>\n",
       "      <td>9.11</td>\n",
       "      <td>9.15</td>\n",
       "      <td>9.08</td>\n",
       "      <td>9.13</td>\n",
       "    </tr>\n",
       "    <tr>\n",
       "      <th>2017-06-09</th>\n",
       "      <td>9.15</td>\n",
       "      <td>9.22</td>\n",
       "      <td>9.12</td>\n",
       "      <td>9.15</td>\n",
       "    </tr>\n",
       "    <tr>\n",
       "      <th>2017-06-12</th>\n",
       "      <td>9.15</td>\n",
       "      <td>9.19</td>\n",
       "      <td>9.10</td>\n",
       "      <td>9.11</td>\n",
       "    </tr>\n",
       "    <tr>\n",
       "      <th>2017-06-13</th>\n",
       "      <td>9.11</td>\n",
       "      <td>9.14</td>\n",
       "      <td>9.05</td>\n",
       "      <td>9.12</td>\n",
       "    </tr>\n",
       "    <tr>\n",
       "      <th>2017-06-14</th>\n",
       "      <td>9.12</td>\n",
       "      <td>9.13</td>\n",
       "      <td>9.04</td>\n",
       "      <td>9.08</td>\n",
       "    </tr>\n",
       "  </tbody>\n",
       "</table>\n",
       "</div>"
      ],
      "text/plain": [
       "            open  high   low  close\n",
       "2017-06-01  9.20  9.23  9.12   9.19\n",
       "2017-06-02  9.18  9.29  9.14   9.17\n",
       "2017-06-07  9.02  9.15  9.01   9.13\n",
       "2017-06-08  9.11  9.15  9.08   9.13\n",
       "2017-06-09  9.15  9.22  9.12   9.15\n",
       "2017-06-12  9.15  9.19  9.10   9.11\n",
       "2017-06-13  9.11  9.14  9.05   9.12\n",
       "2017-06-14  9.12  9.13  9.04   9.08"
      ]
     },
     "execution_count": 86,
     "metadata": {},
     "output_type": "execute_result"
    }
   ],
   "source": [
    "df.dropna()"
   ]
  },
  {
   "cell_type": "markdown",
   "metadata": {},
   "source": [
    "### 对缺失值进行填充："
   ]
  },
  {
   "cell_type": "code",
   "execution_count": 87,
   "metadata": {},
   "outputs": [
    {
     "data": {
      "text/html": [
       "<div>\n",
       "<table border=\"1\" class=\"dataframe\">\n",
       "  <thead>\n",
       "    <tr style=\"text-align: right;\">\n",
       "      <th></th>\n",
       "      <th>open</th>\n",
       "      <th>high</th>\n",
       "      <th>low</th>\n",
       "      <th>close</th>\n",
       "    </tr>\n",
       "  </thead>\n",
       "  <tbody>\n",
       "    <tr>\n",
       "      <th>2017-06-01</th>\n",
       "      <td>9.20</td>\n",
       "      <td>9.23</td>\n",
       "      <td>9.12</td>\n",
       "      <td>9.19</td>\n",
       "    </tr>\n",
       "    <tr>\n",
       "      <th>2017-06-02</th>\n",
       "      <td>9.18</td>\n",
       "      <td>9.29</td>\n",
       "      <td>9.14</td>\n",
       "      <td>9.17</td>\n",
       "    </tr>\n",
       "    <tr>\n",
       "      <th>2017-06-05</th>\n",
       "      <td>9.13</td>\n",
       "      <td>9.17</td>\n",
       "      <td>0.00</td>\n",
       "      <td>9.03</td>\n",
       "    </tr>\n",
       "    <tr>\n",
       "      <th>2017-06-06</th>\n",
       "      <td>9.01</td>\n",
       "      <td>9.06</td>\n",
       "      <td>0.00</td>\n",
       "      <td>9.04</td>\n",
       "    </tr>\n",
       "    <tr>\n",
       "      <th>2017-06-07</th>\n",
       "      <td>9.02</td>\n",
       "      <td>9.15</td>\n",
       "      <td>9.01</td>\n",
       "      <td>9.13</td>\n",
       "    </tr>\n",
       "    <tr>\n",
       "      <th>2017-06-08</th>\n",
       "      <td>9.11</td>\n",
       "      <td>9.15</td>\n",
       "      <td>9.08</td>\n",
       "      <td>9.13</td>\n",
       "    </tr>\n",
       "    <tr>\n",
       "      <th>2017-06-09</th>\n",
       "      <td>9.15</td>\n",
       "      <td>9.22</td>\n",
       "      <td>9.12</td>\n",
       "      <td>9.15</td>\n",
       "    </tr>\n",
       "    <tr>\n",
       "      <th>2017-06-12</th>\n",
       "      <td>9.15</td>\n",
       "      <td>9.19</td>\n",
       "      <td>9.10</td>\n",
       "      <td>9.11</td>\n",
       "    </tr>\n",
       "    <tr>\n",
       "      <th>2017-06-13</th>\n",
       "      <td>9.11</td>\n",
       "      <td>9.14</td>\n",
       "      <td>9.05</td>\n",
       "      <td>9.12</td>\n",
       "    </tr>\n",
       "    <tr>\n",
       "      <th>2017-06-14</th>\n",
       "      <td>9.12</td>\n",
       "      <td>9.13</td>\n",
       "      <td>9.04</td>\n",
       "      <td>9.08</td>\n",
       "    </tr>\n",
       "  </tbody>\n",
       "</table>\n",
       "</div>"
      ],
      "text/plain": [
       "            open  high   low  close\n",
       "2017-06-01  9.20  9.23  9.12   9.19\n",
       "2017-06-02  9.18  9.29  9.14   9.17\n",
       "2017-06-05  9.13  9.17  0.00   9.03\n",
       "2017-06-06  9.01  9.06  0.00   9.04\n",
       "2017-06-07  9.02  9.15  9.01   9.13\n",
       "2017-06-08  9.11  9.15  9.08   9.13\n",
       "2017-06-09  9.15  9.22  9.12   9.15\n",
       "2017-06-12  9.15  9.19  9.10   9.11\n",
       "2017-06-13  9.11  9.14  9.05   9.12\n",
       "2017-06-14  9.12  9.13  9.04   9.08"
      ]
     },
     "execution_count": 87,
     "metadata": {},
     "output_type": "execute_result"
    }
   ],
   "source": [
    "df.fillna(value=0)"
   ]
  },
  {
   "cell_type": "markdown",
   "metadata": {},
   "source": [
    "### 判断数据是否为nan，并进行布尔填充："
   ]
  },
  {
   "cell_type": "code",
   "execution_count": 88,
   "metadata": {},
   "outputs": [
    {
     "data": {
      "text/html": [
       "<div>\n",
       "<table border=\"1\" class=\"dataframe\">\n",
       "  <thead>\n",
       "    <tr style=\"text-align: right;\">\n",
       "      <th></th>\n",
       "      <th>open</th>\n",
       "      <th>high</th>\n",
       "      <th>low</th>\n",
       "      <th>close</th>\n",
       "    </tr>\n",
       "  </thead>\n",
       "  <tbody>\n",
       "    <tr>\n",
       "      <th>2017-06-01</th>\n",
       "      <td>False</td>\n",
       "      <td>False</td>\n",
       "      <td>False</td>\n",
       "      <td>False</td>\n",
       "    </tr>\n",
       "    <tr>\n",
       "      <th>2017-06-02</th>\n",
       "      <td>False</td>\n",
       "      <td>False</td>\n",
       "      <td>False</td>\n",
       "      <td>False</td>\n",
       "    </tr>\n",
       "    <tr>\n",
       "      <th>2017-06-05</th>\n",
       "      <td>False</td>\n",
       "      <td>False</td>\n",
       "      <td>True</td>\n",
       "      <td>False</td>\n",
       "    </tr>\n",
       "    <tr>\n",
       "      <th>2017-06-06</th>\n",
       "      <td>False</td>\n",
       "      <td>False</td>\n",
       "      <td>True</td>\n",
       "      <td>False</td>\n",
       "    </tr>\n",
       "    <tr>\n",
       "      <th>2017-06-07</th>\n",
       "      <td>False</td>\n",
       "      <td>False</td>\n",
       "      <td>False</td>\n",
       "      <td>False</td>\n",
       "    </tr>\n",
       "    <tr>\n",
       "      <th>2017-06-08</th>\n",
       "      <td>False</td>\n",
       "      <td>False</td>\n",
       "      <td>False</td>\n",
       "      <td>False</td>\n",
       "    </tr>\n",
       "    <tr>\n",
       "      <th>2017-06-09</th>\n",
       "      <td>False</td>\n",
       "      <td>False</td>\n",
       "      <td>False</td>\n",
       "      <td>False</td>\n",
       "    </tr>\n",
       "    <tr>\n",
       "      <th>2017-06-12</th>\n",
       "      <td>False</td>\n",
       "      <td>False</td>\n",
       "      <td>False</td>\n",
       "      <td>False</td>\n",
       "    </tr>\n",
       "    <tr>\n",
       "      <th>2017-06-13</th>\n",
       "      <td>False</td>\n",
       "      <td>False</td>\n",
       "      <td>False</td>\n",
       "      <td>False</td>\n",
       "    </tr>\n",
       "    <tr>\n",
       "      <th>2017-06-14</th>\n",
       "      <td>False</td>\n",
       "      <td>False</td>\n",
       "      <td>False</td>\n",
       "      <td>False</td>\n",
       "    </tr>\n",
       "  </tbody>\n",
       "</table>\n",
       "</div>"
      ],
      "text/plain": [
       "             open   high    low  close\n",
       "2017-06-01  False  False  False  False\n",
       "2017-06-02  False  False  False  False\n",
       "2017-06-05  False  False   True  False\n",
       "2017-06-06  False  False   True  False\n",
       "2017-06-07  False  False  False  False\n",
       "2017-06-08  False  False  False  False\n",
       "2017-06-09  False  False  False  False\n",
       "2017-06-12  False  False  False  False\n",
       "2017-06-13  False  False  False  False\n",
       "2017-06-14  False  False  False  False"
      ]
     },
     "execution_count": 88,
     "metadata": {},
     "output_type": "execute_result"
    }
   ],
   "source": [
    "pd.isnull(df)"
   ]
  },
  {
   "cell_type": "markdown",
   "metadata": {},
   "source": [
    "## 函数的应用和映射"
   ]
  },
  {
   "cell_type": "code",
   "execution_count": 89,
   "metadata": {},
   "outputs": [
    {
     "data": {
      "text/plain": [
       "open     9.1180\n",
       "high     9.1730\n",
       "low      9.0825\n",
       "close    9.1150\n",
       "dtype: float64"
      ]
     },
     "execution_count": 89,
     "metadata": {},
     "output_type": "execute_result"
    }
   ],
   "source": [
    "df.mean()#列计算平均值"
   ]
  },
  {
   "cell_type": "code",
   "execution_count": 90,
   "metadata": {},
   "outputs": [
    {
     "data": {
      "text/plain": [
       "2017-06-01    9.185000\n",
       "2017-06-02    9.195000\n",
       "2017-06-05    9.110000\n",
       "2017-06-06    9.036667\n",
       "2017-06-07    9.077500\n",
       "2017-06-08    9.117500\n",
       "2017-06-09    9.160000\n",
       "2017-06-12    9.137500\n",
       "2017-06-13    9.105000\n",
       "2017-06-14    9.092500\n",
       "dtype: float64"
      ]
     },
     "execution_count": 90,
     "metadata": {},
     "output_type": "execute_result"
    }
   ],
   "source": [
    "df.mean(1)#行计算平均值"
   ]
  },
  {
   "cell_type": "code",
   "execution_count": 91,
   "metadata": {},
   "outputs": [
    {
     "data": {
      "text/plain": [
       "2017-06-01    9.1850\n",
       "2017-06-02    9.1950\n",
       "2017-06-05       NaN\n",
       "2017-06-06       NaN\n",
       "2017-06-07    9.0775\n",
       "2017-06-08    9.1175\n",
       "2017-06-09    9.1600\n",
       "2017-06-12    9.1375\n",
       "2017-06-13    9.1050\n",
       "2017-06-14    9.0925\n",
       "dtype: float64"
      ]
     },
     "execution_count": 91,
     "metadata": {},
     "output_type": "execute_result"
    }
   ],
   "source": [
    "df.mean(axis = 1,skipna = False) # skipna参数默认是 True 表示排除缺失值"
   ]
  },
  {
   "cell_type": "markdown",
   "metadata": {},
   "source": [
    "常用的方法如上所介绍们，还要其他许多，可自行学习，下面罗列了一些，可供参考：\n",
    "\n",
    "\n",
    "- count 非na值的数量\n",
    "\n",
    "- describe 针对Series或个DataFrame列计算汇总统计\n",
    "\n",
    "- min、max 计算最小值和最大值\n",
    "\n",
    "- argmin、argmax 计算能够获取到最大值和最小值得索引位置（整数）\n",
    "\n",
    "- idxmin、idxmax 计算能够获取到最大值和最小值得索引值\n",
    "\n",
    "- quantile 计算样本的分位数（0到1）\n",
    "\n",
    "- sum 值的总和\n",
    "\n",
    "- mean 值得平均数\n",
    "\n",
    "- median 值得算术中位数（50%分位数）\n",
    "\n",
    "- mad 根据平均值计算平均绝对离差\n",
    "\n",
    "- var 样本值的方差\n",
    "\n",
    "- std 样本值的标准差\n",
    "\n",
    "- skew 样本值得偏度（三阶矩）\n",
    "\n",
    "- kurt 样本值得峰度（四阶矩）\n",
    "\n",
    "- cumsum 样本值得累计和\n",
    "\n",
    "- cummin，cummax 样本值得累计最大值和累计最小值\n",
    "\n",
    "- cumprod 样本值得累计积\n",
    "\n",
    "- diff 计算一阶差分（对时间序列很有用）\n",
    "\n",
    "- pct_change 计算百分数变化"
   ]
  },
  {
   "cell_type": "markdown",
   "metadata": {},
   "source": [
    "## 数据规整\n",
    "\n",
    "Pandas提供了大量的方法能够轻松的对Series，DataFrame和Panel对象进行各种符合各种逻辑关系的合并操作\n",
    "\n",
    "- concat 可以沿一条轴将多个对象堆叠到一起。\n",
    "\n",
    "- append 将一行连接到一个DataFrame上\n",
    "\n",
    "- duplicated  移除重复数据\n",
    "\n",
    "\n",
    "### concat"
   ]
  },
  {
   "cell_type": "code",
   "execution_count": 92,
   "metadata": {},
   "outputs": [
    {
     "data": {
      "text/html": [
       "<div>\n",
       "<table border=\"1\" class=\"dataframe\">\n",
       "  <thead>\n",
       "    <tr style=\"text-align: right;\">\n",
       "      <th></th>\n",
       "      <th>open</th>\n",
       "      <th>high</th>\n",
       "      <th>low</th>\n",
       "      <th>close</th>\n",
       "    </tr>\n",
       "  </thead>\n",
       "  <tbody>\n",
       "    <tr>\n",
       "      <th>2017-06-01</th>\n",
       "      <td>9.20</td>\n",
       "      <td>9.23</td>\n",
       "      <td>9.12</td>\n",
       "      <td>9.19</td>\n",
       "    </tr>\n",
       "    <tr>\n",
       "      <th>2017-06-02</th>\n",
       "      <td>9.18</td>\n",
       "      <td>9.29</td>\n",
       "      <td>9.14</td>\n",
       "      <td>9.17</td>\n",
       "    </tr>\n",
       "    <tr>\n",
       "      <th>2017-06-05</th>\n",
       "      <td>9.13</td>\n",
       "      <td>9.17</td>\n",
       "      <td>8.99</td>\n",
       "      <td>9.03</td>\n",
       "    </tr>\n",
       "    <tr>\n",
       "      <th>2017-06-06</th>\n",
       "      <td>9.01</td>\n",
       "      <td>9.06</td>\n",
       "      <td>8.99</td>\n",
       "      <td>9.04</td>\n",
       "    </tr>\n",
       "    <tr>\n",
       "      <th>2017-06-07</th>\n",
       "      <td>9.02</td>\n",
       "      <td>9.15</td>\n",
       "      <td>9.01</td>\n",
       "      <td>9.13</td>\n",
       "    </tr>\n",
       "    <tr>\n",
       "      <th>2017-06-08</th>\n",
       "      <td>9.11</td>\n",
       "      <td>9.15</td>\n",
       "      <td>9.08</td>\n",
       "      <td>9.13</td>\n",
       "    </tr>\n",
       "    <tr>\n",
       "      <th>2017-06-09</th>\n",
       "      <td>9.15</td>\n",
       "      <td>9.22</td>\n",
       "      <td>9.12</td>\n",
       "      <td>9.15</td>\n",
       "    </tr>\n",
       "    <tr>\n",
       "      <th>2017-06-12</th>\n",
       "      <td>9.15</td>\n",
       "      <td>9.19</td>\n",
       "      <td>9.10</td>\n",
       "      <td>9.11</td>\n",
       "    </tr>\n",
       "    <tr>\n",
       "      <th>2017-06-13</th>\n",
       "      <td>9.11</td>\n",
       "      <td>9.14</td>\n",
       "      <td>9.05</td>\n",
       "      <td>9.12</td>\n",
       "    </tr>\n",
       "    <tr>\n",
       "      <th>2017-06-14</th>\n",
       "      <td>9.12</td>\n",
       "      <td>9.13</td>\n",
       "      <td>9.04</td>\n",
       "      <td>9.08</td>\n",
       "    </tr>\n",
       "  </tbody>\n",
       "</table>\n",
       "</div>"
      ],
      "text/plain": [
       "            open  high   low  close\n",
       "2017-06-01  9.20  9.23  9.12   9.19\n",
       "2017-06-02  9.18  9.29  9.14   9.17\n",
       "2017-06-05  9.13  9.17  8.99   9.03\n",
       "2017-06-06  9.01  9.06  8.99   9.04\n",
       "2017-06-07  9.02  9.15  9.01   9.13\n",
       "2017-06-08  9.11  9.15  9.08   9.13\n",
       "2017-06-09  9.15  9.22  9.12   9.15\n",
       "2017-06-12  9.15  9.19  9.10   9.11\n",
       "2017-06-13  9.11  9.14  9.05   9.12\n",
       "2017-06-14  9.12  9.13  9.04   9.08"
      ]
     },
     "execution_count": 92,
     "metadata": {},
     "output_type": "execute_result"
    }
   ],
   "source": [
    "df1 = get_price('000001.XSHE','2017-06-01', '2017-06-14','1d',['open','high','low','close'])\n",
    "df1"
   ]
  },
  {
   "cell_type": "code",
   "execution_count": 94,
   "metadata": {},
   "outputs": [
    {
     "data": {
      "text/html": [
       "<div>\n",
       "<table border=\"1\" class=\"dataframe\">\n",
       "  <thead>\n",
       "    <tr style=\"text-align: right;\">\n",
       "      <th></th>\n",
       "      <th>open</th>\n",
       "      <th>high</th>\n",
       "      <th>low</th>\n",
       "      <th>close</th>\n",
       "    </tr>\n",
       "  </thead>\n",
       "  <tbody>\n",
       "    <tr>\n",
       "      <th>2017-05-15</th>\n",
       "      <td>8.89</td>\n",
       "      <td>8.95</td>\n",
       "      <td>8.81</td>\n",
       "      <td>8.86</td>\n",
       "    </tr>\n",
       "    <tr>\n",
       "      <th>2017-05-16</th>\n",
       "      <td>8.84</td>\n",
       "      <td>8.85</td>\n",
       "      <td>8.73</td>\n",
       "      <td>8.84</td>\n",
       "    </tr>\n",
       "    <tr>\n",
       "      <th>2017-05-17</th>\n",
       "      <td>8.81</td>\n",
       "      <td>8.81</td>\n",
       "      <td>8.75</td>\n",
       "      <td>8.77</td>\n",
       "    </tr>\n",
       "    <tr>\n",
       "      <th>2017-05-18</th>\n",
       "      <td>8.72</td>\n",
       "      <td>8.77</td>\n",
       "      <td>8.71</td>\n",
       "      <td>8.73</td>\n",
       "    </tr>\n",
       "    <tr>\n",
       "      <th>2017-05-19</th>\n",
       "      <td>8.74</td>\n",
       "      <td>8.76</td>\n",
       "      <td>8.68</td>\n",
       "      <td>8.69</td>\n",
       "    </tr>\n",
       "    <tr>\n",
       "      <th>2017-05-22</th>\n",
       "      <td>8.68</td>\n",
       "      <td>8.73</td>\n",
       "      <td>8.61</td>\n",
       "      <td>8.68</td>\n",
       "    </tr>\n",
       "    <tr>\n",
       "      <th>2017-05-23</th>\n",
       "      <td>8.67</td>\n",
       "      <td>8.84</td>\n",
       "      <td>8.64</td>\n",
       "      <td>8.79</td>\n",
       "    </tr>\n",
       "    <tr>\n",
       "      <th>2017-05-24</th>\n",
       "      <td>8.78</td>\n",
       "      <td>8.83</td>\n",
       "      <td>8.68</td>\n",
       "      <td>8.81</td>\n",
       "    </tr>\n",
       "    <tr>\n",
       "      <th>2017-05-25</th>\n",
       "      <td>8.79</td>\n",
       "      <td>9.14</td>\n",
       "      <td>8.78</td>\n",
       "      <td>9.10</td>\n",
       "    </tr>\n",
       "    <tr>\n",
       "      <th>2017-05-26</th>\n",
       "      <td>9.08</td>\n",
       "      <td>9.13</td>\n",
       "      <td>9.04</td>\n",
       "      <td>9.10</td>\n",
       "    </tr>\n",
       "    <tr>\n",
       "      <th>2017-05-31</th>\n",
       "      <td>9.10</td>\n",
       "      <td>9.23</td>\n",
       "      <td>9.06</td>\n",
       "      <td>9.20</td>\n",
       "    </tr>\n",
       "  </tbody>\n",
       "</table>\n",
       "</div>"
      ],
      "text/plain": [
       "            open  high   low  close\n",
       "2017-05-15  8.89  8.95  8.81   8.86\n",
       "2017-05-16  8.84  8.85  8.73   8.84\n",
       "2017-05-17  8.81  8.81  8.75   8.77\n",
       "2017-05-18  8.72  8.77  8.71   8.73\n",
       "2017-05-19  8.74  8.76  8.68   8.69\n",
       "2017-05-22  8.68  8.73  8.61   8.68\n",
       "2017-05-23  8.67  8.84  8.64   8.79\n",
       "2017-05-24  8.78  8.83  8.68   8.81\n",
       "2017-05-25  8.79  9.14  8.78   9.10\n",
       "2017-05-26  9.08  9.13  9.04   9.10\n",
       "2017-05-31  9.10  9.23  9.06   9.20"
      ]
     },
     "execution_count": 94,
     "metadata": {},
     "output_type": "execute_result"
    }
   ],
   "source": [
    "df2 = get_price('000001.XSHE','2017-05-15','2017-05-31','1d',['open','high','low','close'])\n",
    "df2"
   ]
  },
  {
   "cell_type": "code",
   "execution_count": 95,
   "metadata": {},
   "outputs": [
    {
     "data": {
      "text/plain": [
       "            open  high   low  close\n",
       "2017-06-01  9.20  9.23  9.12   9.19\n",
       "2017-06-02  9.18  9.29  9.14   9.17\n",
       "2017-06-05  9.13  9.17  8.99   9.03\n",
       "2017-06-06  9.01  9.06  8.99   9.04\n",
       "2017-06-07  9.02  9.15  9.01   9.13\n",
       "2017-06-08  9.11  9.15  9.08   9.13\n",
       "2017-06-09  9.15  9.22  9.12   9.15\n",
       "2017-06-12  9.15  9.19  9.10   9.11\n",
       "2017-06-13  9.11  9.14  9.05   9.12\n",
       "2017-06-14  9.12  9.13  9.04   9.08\n",
       "2017-05-15  8.89  8.95  8.81   8.86\n",
       "2017-05-16  8.84  8.85  8.73   8.84\n",
       "2017-05-17  8.81  8.81  8.75   8.77\n",
       "2017-05-18  8.72  8.77  8.71   8.73\n",
       "2017-05-19  8.74  8.76  8.68   8.69\n",
       "2017-05-22  8.68  8.73  8.61   8.68\n",
       "2017-05-23  8.67  8.84  8.64   8.79\n",
       "2017-05-24  8.78  8.83  8.68   8.81\n",
       "2017-05-25  8.79  9.14  8.78   9.10\n",
       "2017-05-26  9.08  9.13  9.04   9.10\n",
       "2017-05-31  9.10  9.23  9.06   9.20"
      ]
     },
     "execution_count": 95,
     "metadata": {},
     "output_type": "execute_result"
    }
   ],
   "source": [
    "pd.concat([df1,df2],axis=0)"
   ]
  },
  {
   "cell_type": "markdown",
   "metadata": {},
   "source": [
    "横向拼接，index对不上的会用 NaN 填充:"
   ]
  },
  {
   "cell_type": "code",
   "execution_count": 97,
   "metadata": {},
   "outputs": [
    {
     "data": {
      "text/plain": [
       "            open  high   low  close  open  high   low  close\n",
       "2017-05-15   NaN   NaN   NaN    NaN  8.89  8.95  8.81   8.86\n",
       "2017-05-16   NaN   NaN   NaN    NaN  8.84  8.85  8.73   8.84\n",
       "2017-05-17   NaN   NaN   NaN    NaN  8.81  8.81  8.75   8.77\n",
       "2017-05-18   NaN   NaN   NaN    NaN  8.72  8.77  8.71   8.73\n",
       "2017-05-19   NaN   NaN   NaN    NaN  8.74  8.76  8.68   8.69\n",
       "2017-05-22   NaN   NaN   NaN    NaN  8.68  8.73  8.61   8.68\n",
       "2017-05-23   NaN   NaN   NaN    NaN  8.67  8.84  8.64   8.79\n",
       "2017-05-24   NaN   NaN   NaN    NaN  8.78  8.83  8.68   8.81\n",
       "2017-05-25   NaN   NaN   NaN    NaN  8.79  9.14  8.78   9.10\n",
       "2017-05-26   NaN   NaN   NaN    NaN  9.08  9.13  9.04   9.10\n",
       "2017-05-31   NaN   NaN   NaN    NaN  9.10  9.23  9.06   9.20\n",
       "2017-06-01  9.20  9.23  9.12   9.19   NaN   NaN   NaN    NaN\n",
       "2017-06-02  9.18  9.29  9.14   9.17   NaN   NaN   NaN    NaN\n",
       "2017-06-05  9.13  9.17  8.99   9.03   NaN   NaN   NaN    NaN\n",
       "2017-06-06  9.01  9.06  8.99   9.04   NaN   NaN   NaN    NaN\n",
       "2017-06-07  9.02  9.15  9.01   9.13   NaN   NaN   NaN    NaN\n",
       "2017-06-08  9.11  9.15  9.08   9.13   NaN   NaN   NaN    NaN\n",
       "2017-06-09  9.15  9.22  9.12   9.15   NaN   NaN   NaN    NaN\n",
       "2017-06-12  9.15  9.19  9.10   9.11   NaN   NaN   NaN    NaN\n",
       "2017-06-13  9.11  9.14  9.05   9.12   NaN   NaN   NaN    NaN\n",
       "2017-06-14  9.12  9.13  9.04   9.08   NaN   NaN   NaN    NaN"
      ]
     },
     "execution_count": 97,
     "metadata": {},
     "output_type": "execute_result"
    }
   ],
   "source": [
    "pd.concat([df1,df2],axis=1)"
   ]
  },
  {
   "cell_type": "markdown",
   "metadata": {},
   "source": [
    "### append"
   ]
  },
  {
   "cell_type": "code",
   "execution_count": 98,
   "metadata": {},
   "outputs": [
    {
     "data": {
      "text/html": [
       "<div>\n",
       "<table border=\"1\" class=\"dataframe\">\n",
       "  <thead>\n",
       "    <tr style=\"text-align: right;\">\n",
       "      <th></th>\n",
       "      <th>open</th>\n",
       "      <th>high</th>\n",
       "      <th>low</th>\n",
       "      <th>close</th>\n",
       "    </tr>\n",
       "  </thead>\n",
       "  <tbody>\n",
       "    <tr>\n",
       "      <th>2017-06-01</th>\n",
       "      <td>9.20</td>\n",
       "      <td>9.23</td>\n",
       "      <td>9.12</td>\n",
       "      <td>9.19</td>\n",
       "    </tr>\n",
       "    <tr>\n",
       "      <th>2017-06-02</th>\n",
       "      <td>9.18</td>\n",
       "      <td>9.29</td>\n",
       "      <td>9.14</td>\n",
       "      <td>9.17</td>\n",
       "    </tr>\n",
       "    <tr>\n",
       "      <th>2017-06-05</th>\n",
       "      <td>9.13</td>\n",
       "      <td>9.17</td>\n",
       "      <td>8.99</td>\n",
       "      <td>9.03</td>\n",
       "    </tr>\n",
       "    <tr>\n",
       "      <th>2017-06-06</th>\n",
       "      <td>9.01</td>\n",
       "      <td>9.06</td>\n",
       "      <td>8.99</td>\n",
       "      <td>9.04</td>\n",
       "    </tr>\n",
       "    <tr>\n",
       "      <th>2017-06-07</th>\n",
       "      <td>9.02</td>\n",
       "      <td>9.15</td>\n",
       "      <td>9.01</td>\n",
       "      <td>9.13</td>\n",
       "    </tr>\n",
       "    <tr>\n",
       "      <th>2017-06-08</th>\n",
       "      <td>9.11</td>\n",
       "      <td>9.15</td>\n",
       "      <td>9.08</td>\n",
       "      <td>9.13</td>\n",
       "    </tr>\n",
       "    <tr>\n",
       "      <th>2017-06-09</th>\n",
       "      <td>9.15</td>\n",
       "      <td>9.22</td>\n",
       "      <td>9.12</td>\n",
       "      <td>9.15</td>\n",
       "    </tr>\n",
       "    <tr>\n",
       "      <th>2017-06-12</th>\n",
       "      <td>9.15</td>\n",
       "      <td>9.19</td>\n",
       "      <td>9.10</td>\n",
       "      <td>9.11</td>\n",
       "    </tr>\n",
       "    <tr>\n",
       "      <th>2017-06-13</th>\n",
       "      <td>9.11</td>\n",
       "      <td>9.14</td>\n",
       "      <td>9.05</td>\n",
       "      <td>9.12</td>\n",
       "    </tr>\n",
       "    <tr>\n",
       "      <th>2017-06-14</th>\n",
       "      <td>9.12</td>\n",
       "      <td>9.13</td>\n",
       "      <td>9.04</td>\n",
       "      <td>9.08</td>\n",
       "    </tr>\n",
       "  </tbody>\n",
       "</table>\n",
       "</div>"
      ],
      "text/plain": [
       "            open  high   low  close\n",
       "2017-06-01  9.20  9.23  9.12   9.19\n",
       "2017-06-02  9.18  9.29  9.14   9.17\n",
       "2017-06-05  9.13  9.17  8.99   9.03\n",
       "2017-06-06  9.01  9.06  8.99   9.04\n",
       "2017-06-07  9.02  9.15  9.01   9.13\n",
       "2017-06-08  9.11  9.15  9.08   9.13\n",
       "2017-06-09  9.15  9.22  9.12   9.15\n",
       "2017-06-12  9.15  9.19  9.10   9.11\n",
       "2017-06-13  9.11  9.14  9.05   9.12\n",
       "2017-06-14  9.12  9.13  9.04   9.08"
      ]
     },
     "execution_count": 98,
     "metadata": {},
     "output_type": "execute_result"
    }
   ],
   "source": [
    "df1"
   ]
  },
  {
   "cell_type": "code",
   "execution_count": 99,
   "metadata": {},
   "outputs": [
    {
     "data": {
      "text/plain": [
       "open     9.20\n",
       "high     9.23\n",
       "low      9.12\n",
       "close    9.19\n",
       "Name: 2017-06-01 00:00:00, dtype: float64"
      ]
     },
     "execution_count": 99,
     "metadata": {},
     "output_type": "execute_result"
    }
   ],
   "source": [
    "s = df1.iloc[0]\n",
    "s"
   ]
  },
  {
   "cell_type": "code",
   "execution_count": 100,
   "metadata": {},
   "outputs": [
    {
     "data": {
      "text/html": [
       "<div>\n",
       "<table border=\"1\" class=\"dataframe\">\n",
       "  <thead>\n",
       "    <tr style=\"text-align: right;\">\n",
       "      <th></th>\n",
       "      <th>open</th>\n",
       "      <th>high</th>\n",
       "      <th>low</th>\n",
       "      <th>close</th>\n",
       "    </tr>\n",
       "  </thead>\n",
       "  <tbody>\n",
       "    <tr>\n",
       "      <th>2017-06-01</th>\n",
       "      <td>9.20</td>\n",
       "      <td>9.23</td>\n",
       "      <td>9.12</td>\n",
       "      <td>9.19</td>\n",
       "    </tr>\n",
       "    <tr>\n",
       "      <th>2017-06-02</th>\n",
       "      <td>9.18</td>\n",
       "      <td>9.29</td>\n",
       "      <td>9.14</td>\n",
       "      <td>9.17</td>\n",
       "    </tr>\n",
       "    <tr>\n",
       "      <th>2017-06-05</th>\n",
       "      <td>9.13</td>\n",
       "      <td>9.17</td>\n",
       "      <td>8.99</td>\n",
       "      <td>9.03</td>\n",
       "    </tr>\n",
       "    <tr>\n",
       "      <th>2017-06-06</th>\n",
       "      <td>9.01</td>\n",
       "      <td>9.06</td>\n",
       "      <td>8.99</td>\n",
       "      <td>9.04</td>\n",
       "    </tr>\n",
       "    <tr>\n",
       "      <th>2017-06-07</th>\n",
       "      <td>9.02</td>\n",
       "      <td>9.15</td>\n",
       "      <td>9.01</td>\n",
       "      <td>9.13</td>\n",
       "    </tr>\n",
       "    <tr>\n",
       "      <th>2017-06-08</th>\n",
       "      <td>9.11</td>\n",
       "      <td>9.15</td>\n",
       "      <td>9.08</td>\n",
       "      <td>9.13</td>\n",
       "    </tr>\n",
       "    <tr>\n",
       "      <th>2017-06-09</th>\n",
       "      <td>9.15</td>\n",
       "      <td>9.22</td>\n",
       "      <td>9.12</td>\n",
       "      <td>9.15</td>\n",
       "    </tr>\n",
       "    <tr>\n",
       "      <th>2017-06-12</th>\n",
       "      <td>9.15</td>\n",
       "      <td>9.19</td>\n",
       "      <td>9.10</td>\n",
       "      <td>9.11</td>\n",
       "    </tr>\n",
       "    <tr>\n",
       "      <th>2017-06-13</th>\n",
       "      <td>9.11</td>\n",
       "      <td>9.14</td>\n",
       "      <td>9.05</td>\n",
       "      <td>9.12</td>\n",
       "    </tr>\n",
       "    <tr>\n",
       "      <th>2017-06-14</th>\n",
       "      <td>9.12</td>\n",
       "      <td>9.13</td>\n",
       "      <td>9.04</td>\n",
       "      <td>9.08</td>\n",
       "    </tr>\n",
       "    <tr>\n",
       "      <th>2017-06-01</th>\n",
       "      <td>9.20</td>\n",
       "      <td>9.23</td>\n",
       "      <td>9.12</td>\n",
       "      <td>9.19</td>\n",
       "    </tr>\n",
       "  </tbody>\n",
       "</table>\n",
       "</div>"
      ],
      "text/plain": [
       "            open  high   low  close\n",
       "2017-06-01  9.20  9.23  9.12   9.19\n",
       "2017-06-02  9.18  9.29  9.14   9.17\n",
       "2017-06-05  9.13  9.17  8.99   9.03\n",
       "2017-06-06  9.01  9.06  8.99   9.04\n",
       "2017-06-07  9.02  9.15  9.01   9.13\n",
       "2017-06-08  9.11  9.15  9.08   9.13\n",
       "2017-06-09  9.15  9.22  9.12   9.15\n",
       "2017-06-12  9.15  9.19  9.10   9.11\n",
       "2017-06-13  9.11  9.14  9.05   9.12\n",
       "2017-06-14  9.12  9.13  9.04   9.08\n",
       "2017-06-01  9.20  9.23  9.12   9.19"
      ]
     },
     "execution_count": 100,
     "metadata": {},
     "output_type": "execute_result"
    }
   ],
   "source": [
    "df1.append(s, ignore_index=False) # ignore_index=False 表示索引不变"
   ]
  },
  {
   "cell_type": "code",
   "execution_count": 101,
   "metadata": {},
   "outputs": [
    {
     "data": {
      "text/html": [
       "<div>\n",
       "<table border=\"1\" class=\"dataframe\">\n",
       "  <thead>\n",
       "    <tr style=\"text-align: right;\">\n",
       "      <th></th>\n",
       "      <th>open</th>\n",
       "      <th>high</th>\n",
       "      <th>low</th>\n",
       "      <th>close</th>\n",
       "    </tr>\n",
       "  </thead>\n",
       "  <tbody>\n",
       "    <tr>\n",
       "      <th>0</th>\n",
       "      <td>9.20</td>\n",
       "      <td>9.23</td>\n",
       "      <td>9.12</td>\n",
       "      <td>9.19</td>\n",
       "    </tr>\n",
       "    <tr>\n",
       "      <th>1</th>\n",
       "      <td>9.18</td>\n",
       "      <td>9.29</td>\n",
       "      <td>9.14</td>\n",
       "      <td>9.17</td>\n",
       "    </tr>\n",
       "    <tr>\n",
       "      <th>2</th>\n",
       "      <td>9.13</td>\n",
       "      <td>9.17</td>\n",
       "      <td>8.99</td>\n",
       "      <td>9.03</td>\n",
       "    </tr>\n",
       "    <tr>\n",
       "      <th>3</th>\n",
       "      <td>9.01</td>\n",
       "      <td>9.06</td>\n",
       "      <td>8.99</td>\n",
       "      <td>9.04</td>\n",
       "    </tr>\n",
       "    <tr>\n",
       "      <th>4</th>\n",
       "      <td>9.02</td>\n",
       "      <td>9.15</td>\n",
       "      <td>9.01</td>\n",
       "      <td>9.13</td>\n",
       "    </tr>\n",
       "    <tr>\n",
       "      <th>5</th>\n",
       "      <td>9.11</td>\n",
       "      <td>9.15</td>\n",
       "      <td>9.08</td>\n",
       "      <td>9.13</td>\n",
       "    </tr>\n",
       "    <tr>\n",
       "      <th>6</th>\n",
       "      <td>9.15</td>\n",
       "      <td>9.22</td>\n",
       "      <td>9.12</td>\n",
       "      <td>9.15</td>\n",
       "    </tr>\n",
       "    <tr>\n",
       "      <th>7</th>\n",
       "      <td>9.15</td>\n",
       "      <td>9.19</td>\n",
       "      <td>9.10</td>\n",
       "      <td>9.11</td>\n",
       "    </tr>\n",
       "    <tr>\n",
       "      <th>8</th>\n",
       "      <td>9.11</td>\n",
       "      <td>9.14</td>\n",
       "      <td>9.05</td>\n",
       "      <td>9.12</td>\n",
       "    </tr>\n",
       "    <tr>\n",
       "      <th>9</th>\n",
       "      <td>9.12</td>\n",
       "      <td>9.13</td>\n",
       "      <td>9.04</td>\n",
       "      <td>9.08</td>\n",
       "    </tr>\n",
       "    <tr>\n",
       "      <th>10</th>\n",
       "      <td>9.20</td>\n",
       "      <td>9.23</td>\n",
       "      <td>9.12</td>\n",
       "      <td>9.19</td>\n",
       "    </tr>\n",
       "  </tbody>\n",
       "</table>\n",
       "</div>"
      ],
      "text/plain": [
       "    open  high   low  close\n",
       "0   9.20  9.23  9.12   9.19\n",
       "1   9.18  9.29  9.14   9.17\n",
       "2   9.13  9.17  8.99   9.03\n",
       "3   9.01  9.06  8.99   9.04\n",
       "4   9.02  9.15  9.01   9.13\n",
       "5   9.11  9.15  9.08   9.13\n",
       "6   9.15  9.22  9.12   9.15\n",
       "7   9.15  9.19  9.10   9.11\n",
       "8   9.11  9.14  9.05   9.12\n",
       "9   9.12  9.13  9.04   9.08\n",
       "10  9.20  9.23  9.12   9.19"
      ]
     },
     "execution_count": 101,
     "metadata": {},
     "output_type": "execute_result"
    }
   ],
   "source": [
    "df1.append(s, ignore_index=True) # ignore_index=True 表示索引重置"
   ]
  },
  {
   "cell_type": "markdown",
   "metadata": {},
   "source": [
    "### 移除重复数据duplicated"
   ]
  },
  {
   "cell_type": "code",
   "execution_count": 102,
   "metadata": {},
   "outputs": [
    {
     "data": {
      "text/html": [
       "<div>\n",
       "<table border=\"1\" class=\"dataframe\">\n",
       "  <thead>\n",
       "    <tr style=\"text-align: right;\">\n",
       "      <th></th>\n",
       "      <th>open</th>\n",
       "      <th>high</th>\n",
       "      <th>low</th>\n",
       "      <th>close</th>\n",
       "    </tr>\n",
       "  </thead>\n",
       "  <tbody>\n",
       "    <tr>\n",
       "      <th>2017-06-01</th>\n",
       "      <td>9.20</td>\n",
       "      <td>9.23</td>\n",
       "      <td>9.12</td>\n",
       "      <td>9.19</td>\n",
       "    </tr>\n",
       "    <tr>\n",
       "      <th>2017-06-02</th>\n",
       "      <td>9.18</td>\n",
       "      <td>9.29</td>\n",
       "      <td>9.14</td>\n",
       "      <td>9.17</td>\n",
       "    </tr>\n",
       "    <tr>\n",
       "      <th>2017-06-05</th>\n",
       "      <td>9.13</td>\n",
       "      <td>9.17</td>\n",
       "      <td>8.99</td>\n",
       "      <td>9.03</td>\n",
       "    </tr>\n",
       "    <tr>\n",
       "      <th>2017-06-06</th>\n",
       "      <td>9.01</td>\n",
       "      <td>9.06</td>\n",
       "      <td>8.99</td>\n",
       "      <td>9.04</td>\n",
       "    </tr>\n",
       "    <tr>\n",
       "      <th>2017-06-07</th>\n",
       "      <td>9.02</td>\n",
       "      <td>9.15</td>\n",
       "      <td>9.01</td>\n",
       "      <td>9.13</td>\n",
       "    </tr>\n",
       "    <tr>\n",
       "      <th>2017-06-08</th>\n",
       "      <td>9.11</td>\n",
       "      <td>9.15</td>\n",
       "      <td>9.08</td>\n",
       "      <td>9.13</td>\n",
       "    </tr>\n",
       "    <tr>\n",
       "      <th>2017-06-09</th>\n",
       "      <td>9.15</td>\n",
       "      <td>9.22</td>\n",
       "      <td>9.12</td>\n",
       "      <td>9.15</td>\n",
       "    </tr>\n",
       "    <tr>\n",
       "      <th>2017-06-12</th>\n",
       "      <td>9.15</td>\n",
       "      <td>9.19</td>\n",
       "      <td>9.10</td>\n",
       "      <td>9.11</td>\n",
       "    </tr>\n",
       "    <tr>\n",
       "      <th>2017-06-13</th>\n",
       "      <td>9.11</td>\n",
       "      <td>9.14</td>\n",
       "      <td>9.05</td>\n",
       "      <td>9.12</td>\n",
       "    </tr>\n",
       "    <tr>\n",
       "      <th>2017-06-14</th>\n",
       "      <td>9.12</td>\n",
       "      <td>9.13</td>\n",
       "      <td>9.04</td>\n",
       "      <td>9.08</td>\n",
       "    </tr>\n",
       "    <tr>\n",
       "      <th>2017-06-01</th>\n",
       "      <td>9.20</td>\n",
       "      <td>9.23</td>\n",
       "      <td>9.12</td>\n",
       "      <td>9.19</td>\n",
       "    </tr>\n",
       "  </tbody>\n",
       "</table>\n",
       "</div>"
      ],
      "text/plain": [
       "            open  high   low  close\n",
       "2017-06-01  9.20  9.23  9.12   9.19\n",
       "2017-06-02  9.18  9.29  9.14   9.17\n",
       "2017-06-05  9.13  9.17  8.99   9.03\n",
       "2017-06-06  9.01  9.06  8.99   9.04\n",
       "2017-06-07  9.02  9.15  9.01   9.13\n",
       "2017-06-08  9.11  9.15  9.08   9.13\n",
       "2017-06-09  9.15  9.22  9.12   9.15\n",
       "2017-06-12  9.15  9.19  9.10   9.11\n",
       "2017-06-13  9.11  9.14  9.05   9.12\n",
       "2017-06-14  9.12  9.13  9.04   9.08\n",
       "2017-06-01  9.20  9.23  9.12   9.19"
      ]
     },
     "execution_count": 102,
     "metadata": {},
     "output_type": "execute_result"
    }
   ],
   "source": [
    "z = df1.append(s, ignore_index=False)\n",
    "z"
   ]
  },
  {
   "cell_type": "markdown",
   "metadata": {},
   "source": [
    "查看重复数据："
   ]
  },
  {
   "cell_type": "code",
   "execution_count": 104,
   "metadata": {},
   "outputs": [
    {
     "data": {
      "text/plain": [
       "2017-06-01    False\n",
       "2017-06-02    False\n",
       "2017-06-05    False\n",
       "2017-06-06    False\n",
       "2017-06-07    False\n",
       "2017-06-08    False\n",
       "2017-06-09    False\n",
       "2017-06-12    False\n",
       "2017-06-13    False\n",
       "2017-06-14    False\n",
       "2017-06-01     True\n",
       "dtype: bool"
      ]
     },
     "execution_count": 104,
     "metadata": {},
     "output_type": "execute_result"
    }
   ],
   "source": [
    "z.duplicated()"
   ]
  }
 ],
 "metadata": {
  "kernelspec": {
   "display_name": "Python 3",
   "language": "python",
   "name": "python3"
  },
  "language_info": {
   "codemirror_mode": {
    "name": "ipython",
    "version": 3
   },
   "file_extension": ".py",
   "mimetype": "text/x-python",
   "name": "python",
   "nbconvert_exporter": "python",
   "pygments_lexer": "ipython3",
   "version": "3.5.5"
  }
 },
 "nbformat": 4,
 "nbformat_minor": 1
}
